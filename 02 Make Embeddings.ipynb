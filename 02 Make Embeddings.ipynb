{
 "cells": [
  {
   "cell_type": "markdown",
   "id": "f8a974a9-1c8b-4bf6-b5db-9c5f13f8cf1a",
   "metadata": {
    "tags": []
   },
   "source": [
    "# 02 Make Embeddings"
   ]
  },
  {
   "cell_type": "markdown",
   "id": "c2c684b3-cd5e-4d91-a373-997ad7cc501a",
   "metadata": {
    "tags": []
   },
   "source": [
    "## Imports and setup"
   ]
  },
  {
   "cell_type": "code",
   "execution_count": 2,
   "id": "68fe9101-52bc-4f8f-b07e-c93dc99f5070",
   "metadata": {},
   "outputs": [],
   "source": [
    "%matplotlib inline"
   ]
  },
  {
   "cell_type": "code",
   "execution_count": 40,
   "id": "0b5cfbda-5918-4833-bb1c-956f775843e0",
   "metadata": {},
   "outputs": [],
   "source": [
    "import numpy as np\n",
    "import pandas as pd\n",
    "import matplotlib.pyplot as plt\n",
    "\n",
    "import pickle, textwrap\n",
    "\n",
    "from sentence_transformers import SentenceTransformer, util"
   ]
  },
  {
   "cell_type": "code",
   "execution_count": 35,
   "id": "e0b168e7-29de-48db-8ef9-173a4440fa36",
   "metadata": {},
   "outputs": [],
   "source": [
    "pd.options.display.max_colwidth = 400"
   ]
  },
  {
   "cell_type": "code",
   "execution_count": 3,
   "id": "0f1e7f8b-e094-437d-8478-e4354f321f47",
   "metadata": {},
   "outputs": [],
   "source": [
    "SEED = 2023\n",
    "random.seed(SEED)"
   ]
  },
  {
   "cell_type": "markdown",
   "id": "f2357d05-a601-4f74-a06e-0091441569da",
   "metadata": {},
   "source": [
    "## Load data"
   ]
  },
  {
   "cell_type": "code",
   "execution_count": 38,
   "id": "bb31d494-4731-47d1-a3d0-fca214df41cb",
   "metadata": {},
   "outputs": [
    {
     "data": {
      "text/plain": [
       "(527, 2)"
      ]
     },
     "metadata": {},
     "output_type": "display_data"
    },
    {
     "data": {
      "text/html": [
       "<div>\n",
       "<style scoped>\n",
       "    .dataframe tbody tr th:only-of-type {\n",
       "        vertical-align: middle;\n",
       "    }\n",
       "\n",
       "    .dataframe tbody tr th {\n",
       "        vertical-align: top;\n",
       "    }\n",
       "\n",
       "    .dataframe thead th {\n",
       "        text-align: right;\n",
       "    }\n",
       "</style>\n",
       "<table border=\"1\" class=\"dataframe\">\n",
       "  <thead>\n",
       "    <tr style=\"text-align: right;\">\n",
       "      <th></th>\n",
       "      <th>title</th>\n",
       "      <th>summary</th>\n",
       "    </tr>\n",
       "  </thead>\n",
       "  <tbody>\n",
       "    <tr>\n",
       "      <th>43</th>\n",
       "      <td>Welding power supply</td>\n",
       "      <td>A welding power supply is a device that provides or modulates an electric current to perform arc welding. There are multiple arc welding processes in common use ranging from relatively simple Shielded Metal Arc Welding (SMAW) to more complicated welding processes using inert shielding gas like Gas metal arc welding (GMAW) or Gas tungsten arc welding (GTAW). Welding power supplies primarily ser...</td>\n",
       "    </tr>\n",
       "    <tr>\n",
       "      <th>26</th>\n",
       "      <td>Laser-hybrid welding</td>\n",
       "      <td>Laser-hybrid welding is a type of welding process that combines the principles of laser beam welding and arc welding.The combination of laser light and an electrical arc into an amalgamated welding process has existed since the 1970s, but has only recently been used in industrial applications. There are three main types of hybrid welding process, depending on the arc used: TIG, plasma arc or M...</td>\n",
       "    </tr>\n",
       "  </tbody>\n",
       "</table>\n",
       "</div>"
      ],
      "text/plain": [
       "                   title  \\\n",
       "43  Welding power supply   \n",
       "26  Laser-hybrid welding   \n",
       "\n",
       "                                                                                                                                                                                                                                                                                                                                                                                                            summary  \n",
       "43  A welding power supply is a device that provides or modulates an electric current to perform arc welding. There are multiple arc welding processes in common use ranging from relatively simple Shielded Metal Arc Welding (SMAW) to more complicated welding processes using inert shielding gas like Gas metal arc welding (GMAW) or Gas tungsten arc welding (GTAW). Welding power supplies primarily ser...  \n",
       "26  Laser-hybrid welding is a type of welding process that combines the principles of laser beam welding and arc welding.The combination of laser light and an electrical arc into an amalgamated welding process has existed since the 1970s, but has only recently been used in industrial applications. There are three main types of hybrid welding process, depending on the arc used: TIG, plasma arc or M...  "
      ]
     },
     "metadata": {},
     "output_type": "display_data"
    }
   ],
   "source": [
    "df = (pd\n",
    "      .read_csv('data/manufacturing_articles.csv')\n",
    "      .loc[:,['title', 'summary']]\n",
    "     )\n",
    "\n",
    "display(df.shape)\n",
    "display(df.sample(2))"
   ]
  },
  {
   "cell_type": "markdown",
   "id": "e151d264-e375-4bee-851c-d3ce2fe6e7a1",
   "metadata": {},
   "source": [
    "## Calculate article embeddings"
   ]
  },
  {
   "cell_type": "code",
   "execution_count": 24,
   "id": "8232652c-feb3-4691-bc99-24767b764ef1",
   "metadata": {},
   "outputs": [
    {
     "data": {
      "application/vnd.jupyter.widget-view+json": {
       "model_id": "a213688bc1e7478c9ebab71203af0146",
       "version_major": 2,
       "version_minor": 0
      },
      "text/plain": [
       "Downloading: 0.00B [00:00, ?B/s]"
      ]
     },
     "metadata": {},
     "output_type": "display_data"
    },
    {
     "data": {
      "application/vnd.jupyter.widget-view+json": {
       "model_id": "787e6fdbbd7142c0828941def52c6903",
       "version_major": 2,
       "version_minor": 0
      },
      "text/plain": [
       "Downloading:   0%|          | 0.00/190 [00:00<?, ?B/s]"
      ]
     },
     "metadata": {},
     "output_type": "display_data"
    },
    {
     "data": {
      "application/vnd.jupyter.widget-view+json": {
       "model_id": "732ab1aad658497498035a90ae62df86",
       "version_major": 2,
       "version_minor": 0
      },
      "text/plain": [
       "Downloading: 0.00B [00:00, ?B/s]"
      ]
     },
     "metadata": {},
     "output_type": "display_data"
    },
    {
     "data": {
      "application/vnd.jupyter.widget-view+json": {
       "model_id": "2822c701631f4416a0c863dd436474d6",
       "version_major": 2,
       "version_minor": 0
      },
      "text/plain": [
       "Downloading:   0%|          | 0.00/573 [00:00<?, ?B/s]"
      ]
     },
     "metadata": {},
     "output_type": "display_data"
    },
    {
     "data": {
      "application/vnd.jupyter.widget-view+json": {
       "model_id": "368c5eda924c46f58b6cc5b87ec23c09",
       "version_major": 2,
       "version_minor": 0
      },
      "text/plain": [
       "Downloading:   0%|          | 0.00/116 [00:00<?, ?B/s]"
      ]
     },
     "metadata": {},
     "output_type": "display_data"
    },
    {
     "data": {
      "application/vnd.jupyter.widget-view+json": {
       "model_id": "7415c0056d294ba5a78312b64e41d7a5",
       "version_major": 2,
       "version_minor": 0
      },
      "text/plain": [
       "Downloading: 0.00B [00:00, ?B/s]"
      ]
     },
     "metadata": {},
     "output_type": "display_data"
    },
    {
     "data": {
      "application/vnd.jupyter.widget-view+json": {
       "model_id": "cc898da785b6475e833040a9672d2e97",
       "version_major": 2,
       "version_minor": 0
      },
      "text/plain": [
       "Downloading:   0%|          | 0.00/134M [00:00<?, ?B/s]"
      ]
     },
     "metadata": {},
     "output_type": "display_data"
    },
    {
     "data": {
      "application/vnd.jupyter.widget-view+json": {
       "model_id": "461c162d6e1a426e81d6330609362276",
       "version_major": 2,
       "version_minor": 0
      },
      "text/plain": [
       "Downloading:   0%|          | 0.00/53.0 [00:00<?, ?B/s]"
      ]
     },
     "metadata": {},
     "output_type": "display_data"
    },
    {
     "data": {
      "application/vnd.jupyter.widget-view+json": {
       "model_id": "b4a16e92a01e4c2fb219bac495c4f868",
       "version_major": 2,
       "version_minor": 0
      },
      "text/plain": [
       "Downloading:   0%|          | 0.00/112 [00:00<?, ?B/s]"
      ]
     },
     "metadata": {},
     "output_type": "display_data"
    },
    {
     "data": {
      "application/vnd.jupyter.widget-view+json": {
       "model_id": "fa45e35c84374baca0d064241ef1fa84",
       "version_major": 2,
       "version_minor": 0
      },
      "text/plain": [
       "Downloading: 0.00B [00:00, ?B/s]"
      ]
     },
     "metadata": {},
     "output_type": "display_data"
    },
    {
     "data": {
      "application/vnd.jupyter.widget-view+json": {
       "model_id": "6c7e1ec5348c48a09d6b880b0377de52",
       "version_major": 2,
       "version_minor": 0
      },
      "text/plain": [
       "Downloading:   0%|          | 0.00/352 [00:00<?, ?B/s]"
      ]
     },
     "metadata": {},
     "output_type": "display_data"
    },
    {
     "data": {
      "application/vnd.jupyter.widget-view+json": {
       "model_id": "46816239379f4d52b07fa8179d19a4d7",
       "version_major": 2,
       "version_minor": 0
      },
      "text/plain": [
       "Downloading: 0.00B [00:00, ?B/s]"
      ]
     },
     "metadata": {},
     "output_type": "display_data"
    },
    {
     "data": {
      "application/vnd.jupyter.widget-view+json": {
       "model_id": "eae15f4197344b89beba37e6573f66a4",
       "version_major": 2,
       "version_minor": 0
      },
      "text/plain": [
       "Downloading: 0.00B [00:00, ?B/s]"
      ]
     },
     "metadata": {},
     "output_type": "display_data"
    },
    {
     "data": {
      "application/vnd.jupyter.widget-view+json": {
       "model_id": "ea29f8759d7a41a0af8667cf748da1c9",
       "version_major": 2,
       "version_minor": 0
      },
      "text/plain": [
       "Downloading:   0%|          | 0.00/349 [00:00<?, ?B/s]"
      ]
     },
     "metadata": {},
     "output_type": "display_data"
    },
    {
     "name": "stdout",
     "output_type": "stream",
     "text": [
      "Start calculating article embeddings...\n"
     ]
    },
    {
     "data": {
      "application/vnd.jupyter.widget-view+json": {
       "model_id": "1c87901a18ec4e7fac20bc1ac57c401c",
       "version_major": 2,
       "version_minor": 0
      },
      "text/plain": [
       "Batches:   0%|          | 0/17 [00:00<?, ?it/s]"
      ]
     },
     "metadata": {},
     "output_type": "display_data"
    },
    {
     "name": "stdout",
     "output_type": "stream",
     "text": [
      "Complated! Embeddings shape:(527, 384)\n"
     ]
    }
   ],
   "source": [
    "vectoriser = SentenceTransformer(\"all-MiniLM-L12-v2\")\n",
    "\n",
    "vectoriser.max_seq_length = 512\n",
    "\n",
    "print('Start calculating article embeddings...')\n",
    "embeddings = vectoriser.encode(df['summary'].tolist(), show_progress_bar=True)\n",
    "print(f'Completed! Embeddings shape:{embeddings.shape}')"
   ]
  },
  {
   "cell_type": "code",
   "execution_count": 25,
   "id": "ff955e67-5d56-43bc-b0cb-7d59186c2f36",
   "metadata": {},
   "outputs": [],
   "source": [
    "# Serialize embeddings and save (=pickle)\n",
    "with open('data/embeddings.pickle', 'wb') as pickle_file:\n",
    "    pickle.dump(embeddings, pickle_file)"
   ]
  },
  {
   "cell_type": "markdown",
   "id": "e9f8fb00-2e60-4df8-9194-705dd97adc13",
   "metadata": {
    "tags": []
   },
   "source": [
    "## Semantic seach"
   ]
  },
  {
   "cell_type": "code",
   "execution_count": 53,
   "id": "2018f2d9-9f2d-4a52-bdbe-21b8f95543ba",
   "metadata": {},
   "outputs": [
    {
     "name": "stdout",
     "output_type": "stream",
     "text": [
      "INPUT DESCRIPTION OF A PROCESS\n",
      " \n",
      "Finishing operation of high-precision holes performed with \n",
      "a multi-edge tool. High surface finish, superb hole quality, \n",
      "and close dimensional tolerance are achieved at high \n",
      "penetration rates and small depths of cut.\n",
      "\n",
      "TOP 3 MOST SIMILAR PROCESSES\n",
      "\n"
     ]
    },
    {
     "data": {
      "text/html": [
       "<div>\n",
       "<style scoped>\n",
       "    .dataframe tbody tr th:only-of-type {\n",
       "        vertical-align: middle;\n",
       "    }\n",
       "\n",
       "    .dataframe tbody tr th {\n",
       "        vertical-align: top;\n",
       "    }\n",
       "\n",
       "    .dataframe thead th {\n",
       "        text-align: right;\n",
       "    }\n",
       "</style>\n",
       "<table border=\"1\" class=\"dataframe\">\n",
       "  <thead>\n",
       "    <tr style=\"text-align: right;\">\n",
       "      <th></th>\n",
       "      <th>title</th>\n",
       "      <th>summary</th>\n",
       "    </tr>\n",
       "  </thead>\n",
       "  <tbody>\n",
       "    <tr>\n",
       "      <th>141</th>\n",
       "      <td>Laser drilling</td>\n",
       "      <td>Laser drilling is the process of creating thru-holes, referred to as “popped” holes or “percussion drilled” holes, by repeatedly pulsing focused laser energy on a material. The diameter of these holes can be as small as 0.002” (~50 μm). If larger holes are required, the laser is moved around the circumference of the “popped” hole until the desired diameter is created.\\n\\n\\n\\nApplications\\nLase...</td>\n",
       "    </tr>\n",
       "    <tr>\n",
       "      <th>87</th>\n",
       "      <td>Blanking and piercing</td>\n",
       "      <td>Blanking and piercing are shearing processes in which a punch and die are used to produce parts from coil or sheet stock. Blanking produces the outside features of the component, while piercing produces internal holes or shapes. The web is created after multiple components have been produced and is considered scrap material. The \"slugs\" produced by piercing internal features are also considere...</td>\n",
       "    </tr>\n",
       "    <tr>\n",
       "      <th>118</th>\n",
       "      <td>Drilling</td>\n",
       "      <td>Drilling is a cutting process where a drill bit is spun to cut a hole of circular cross-section in solid materials. The drill bit is usually a rotary cutting tool, often multi-point. The bit is pressed against the work-piece and rotated at rates from hundreds to thousands of revolutions per minute. This forces the cutting edge against the work-piece, cutting off chips (swarf) from the hole as ...</td>\n",
       "    </tr>\n",
       "  </tbody>\n",
       "</table>\n",
       "</div>"
      ],
      "text/plain": [
       "                     title  \\\n",
       "141         Laser drilling   \n",
       "87   Blanking and piercing   \n",
       "118               Drilling   \n",
       "\n",
       "                                                                                                                                                                                                                                                                                                                                                                                                             summary  \n",
       "141  Laser drilling is the process of creating thru-holes, referred to as “popped” holes or “percussion drilled” holes, by repeatedly pulsing focused laser energy on a material. The diameter of these holes can be as small as 0.002” (~50 μm). If larger holes are required, the laser is moved around the circumference of the “popped” hole until the desired diameter is created.\\n\\n\\n\\nApplications\\nLase...  \n",
       "87   Blanking and piercing are shearing processes in which a punch and die are used to produce parts from coil or sheet stock. Blanking produces the outside features of the component, while piercing produces internal holes or shapes. The web is created after multiple components have been produced and is considered scrap material. The \"slugs\" produced by piercing internal features are also considere...  \n",
       "118  Drilling is a cutting process where a drill bit is spun to cut a hole of circular cross-section in solid materials. The drill bit is usually a rotary cutting tool, often multi-point. The bit is pressed against the work-piece and rotated at rates from hundreds to thousands of revolutions per minute. This forces the cutting edge against the work-piece, cutting off chips (swarf) from the hole as ...  "
      ]
     },
     "metadata": {},
     "output_type": "display_data"
    }
   ],
   "source": [
    "def semantic_search(\n",
    "    unseen_process_description: str,\n",
    "    n_results: int,\n",
    "    article_df: pd.DataFrame,\n",
    "    article_embeddings: np.array,\n",
    ") -> None:\n",
    "    \"\"\"\n",
    "    Perform semantic search to find the most similar processes to an unseen description.\n",
    "\n",
    "    Args:\n",
    "        unseen_process_description (str): The description of the unseen process.\n",
    "        n_results (int): The number of most similar processes to retrieve.\n",
    "        article_df (pd.DataFrame): The DataFrame containing the process articles.\n",
    "        article_embeddings (np.array): The array of embeddings for the process articles.\n",
    "\n",
    "    Returns:\n",
    "        None\n",
    "\n",
    "    Prints the input description of a process and the top `n_results` most similar processes.\n",
    "\n",
    "    Example:\n",
    "        semantic_search(\n",
    "            unseen_process_description=\"This is a description of a manufacturing process.\",\n",
    "            n_results=5,\n",
    "            article_df=df,\n",
    "            article_embeddings=embeddings\n",
    "        )\n",
    "    \"\"\"\n",
    "    unseen_embedding = vectoriser.encode(unseen_process_description)\n",
    "\n",
    "    cosine_similarities = util.cos_sim(article_embeddings, unseen_embedding[np.newaxis,:])\n",
    "\n",
    "    indexes_of_most_simialar_articles = np.argsort(cosine_similarities.flatten())[-3:]\n",
    "\n",
    "    print('INPUT DESCRIPTION OF A PROCESS\\n', unseen_process_description)\n",
    "    print(f'TOP {n_results} MOST SIMILAR PROCESSES\\n')\n",
    "    display(df.iloc[indexes_of_most_simialar_articles, :])\n",
    "\n",
    "\n",
    "unseen_process_description = textwrap.dedent(\"\"\"\n",
    "    Finishing operation of high-precision holes performed with \n",
    "    a multi-edge tool. High surface finish, superb hole quality, \n",
    "    and close dimensional tolerance are achieved at high \n",
    "    penetration rates and small depths of cut.\n",
    "\"\"\")\n",
    "semantic_search(description, 3, df, embeddings)"
   ]
  },
  {
   "cell_type": "code",
   "execution_count": 54,
   "id": "d24be7ab-f0cb-4033-acc8-9d283703b9d7",
   "metadata": {},
   "outputs": [
    {
     "name": "stdout",
     "output_type": "stream",
     "text": [
      "INPUT DESCRIPTION OF A PROCESS\n",
      " \n",
      "Melting two metals together so they can bond. \n",
      "The connection is strong. There are shiny beads of metal on the side.\n",
      "\n",
      "TOP 3 MOST SIMILAR PROCESSES\n",
      "\n"
     ]
    },
    {
     "data": {
      "text/html": [
       "<div>\n",
       "<style scoped>\n",
       "    .dataframe tbody tr th:only-of-type {\n",
       "        vertical-align: middle;\n",
       "    }\n",
       "\n",
       "    .dataframe tbody tr th {\n",
       "        vertical-align: top;\n",
       "    }\n",
       "\n",
       "    .dataframe thead th {\n",
       "        text-align: right;\n",
       "    }\n",
       "</style>\n",
       "<table border=\"1\" class=\"dataframe\">\n",
       "  <thead>\n",
       "    <tr style=\"text-align: right;\">\n",
       "      <th></th>\n",
       "      <th>title</th>\n",
       "      <th>summary</th>\n",
       "    </tr>\n",
       "  </thead>\n",
       "  <tbody>\n",
       "    <tr>\n",
       "      <th>31</th>\n",
       "      <td>Cladding (metalworking)</td>\n",
       "      <td>Cladding is the bonding together of dissimilar metals. It is different from fusion welding or gluing as a method to fasten the metals together. Cladding is often achieved by extruding two metals through a die as well as pressing or rolling sheets together under high pressure.\\nThe United States Mint uses cladding to manufacture coins from different metals. This allows a cheaper metal to be use...</td>\n",
       "    </tr>\n",
       "    <tr>\n",
       "      <th>41</th>\n",
       "      <td>Filler metal</td>\n",
       "      <td>A filler metal is a metal added in the making of a joint through welding, brazing, or soldering.\\n\\n\\n\\nSoldering\\nSoldering and brazing processes rely on a filler metal added to the joint to form the junction between the base metal parts. Soft soldering uses a filler that melts at a lower temperature than the workpiece, often a lead-tin solder alloy. Brazing and hard soldering use a higher te...</td>\n",
       "    </tr>\n",
       "    <tr>\n",
       "      <th>13</th>\n",
       "      <td>Cold welding</td>\n",
       "      <td>Cold welding or contact welding is a solid-state welding process in which joining takes place without fusion or heating at the interface of the two parts to be welded. Unlike in fusion welding, no liquid or molten phase is present in the joint.\\nCold welding was first recognized as a general materials phenomenon in the 1940s. It was then discovered that two clean, flat surfaces of similar meta...</td>\n",
       "    </tr>\n",
       "  </tbody>\n",
       "</table>\n",
       "</div>"
      ],
      "text/plain": [
       "                      title  \\\n",
       "31  Cladding (metalworking)   \n",
       "41             Filler metal   \n",
       "13             Cold welding   \n",
       "\n",
       "                                                                                                                                                                                                                                                                                                                                                                                                            summary  \n",
       "31  Cladding is the bonding together of dissimilar metals. It is different from fusion welding or gluing as a method to fasten the metals together. Cladding is often achieved by extruding two metals through a die as well as pressing or rolling sheets together under high pressure.\\nThe United States Mint uses cladding to manufacture coins from different metals. This allows a cheaper metal to be use...  \n",
       "41  A filler metal is a metal added in the making of a joint through welding, brazing, or soldering.\\n\\n\\n\\nSoldering\\nSoldering and brazing processes rely on a filler metal added to the joint to form the junction between the base metal parts. Soft soldering uses a filler that melts at a lower temperature than the workpiece, often a lead-tin solder alloy. Brazing and hard soldering use a higher te...  \n",
       "13  Cold welding or contact welding is a solid-state welding process in which joining takes place without fusion or heating at the interface of the two parts to be welded. Unlike in fusion welding, no liquid or molten phase is present in the joint.\\nCold welding was first recognized as a general materials phenomenon in the 1940s. It was then discovered that two clean, flat surfaces of similar meta...  "
      ]
     },
     "metadata": {},
     "output_type": "display_data"
    }
   ],
   "source": [
    "unseen_process_description = textwrap.dedent(\"\"\"\n",
    "    Melting two metals together so they can bond. \n",
    "    The connection is strong. There are shiny beads of metal on the side.\n",
    "\"\"\")\n",
    "semantic_search(unseen_process_description, 3, df, embeddings)"
   ]
  },
  {
   "cell_type": "code",
   "execution_count": 55,
   "id": "5813ef43-f8b9-47e9-8dd0-6f271dd0f058",
   "metadata": {},
   "outputs": [
    {
     "name": "stdout",
     "output_type": "stream",
     "text": [
      "INPUT DESCRIPTION OF A PROCESS\n",
      " \n",
      "I want to produce small metal part with complex geometry. \n",
      "I dont like to use cutting processes. \n",
      "Cost needs to be low. The volume is high.\n",
      "\n",
      "TOP 3 MOST SIMILAR PROCESSES\n",
      "\n"
     ]
    },
    {
     "data": {
      "text/html": [
       "<div>\n",
       "<style scoped>\n",
       "    .dataframe tbody tr th:only-of-type {\n",
       "        vertical-align: middle;\n",
       "    }\n",
       "\n",
       "    .dataframe tbody tr th {\n",
       "        vertical-align: top;\n",
       "    }\n",
       "\n",
       "    .dataframe thead th {\n",
       "        text-align: right;\n",
       "    }\n",
       "</style>\n",
       "<table border=\"1\" class=\"dataframe\">\n",
       "  <thead>\n",
       "    <tr style=\"text-align: right;\">\n",
       "      <th></th>\n",
       "      <th>title</th>\n",
       "      <th>summary</th>\n",
       "    </tr>\n",
       "  </thead>\n",
       "  <tbody>\n",
       "    <tr>\n",
       "      <th>97</th>\n",
       "      <td>Metal spinning</td>\n",
       "      <td>Metal spinning, also known as spin forming or spinning or metal turning most commonly, is a metalworking process by which a disc or tube of metal is rotated at high speed and formed into an axially symmetric part. Spinning can be performed by hand or by a CNC lathe.\\nThe metal spinning trade is one that dates back to antiquity and was a skill used in the Ancient Egyptian era. This is when meta...</td>\n",
       "    </tr>\n",
       "    <tr>\n",
       "      <th>33</th>\n",
       "      <td>Metalworking</td>\n",
       "      <td>Metalworking is the process of shaping and reshaping metals to create useful objects, parts, assemblies, and large scale structures. As a term it covers a wide and diverse range of processes, skills, and tools for producing objects on every scale: from huge ships, buildings, and bridges down to precise engine parts and delicate jewelry.\\nThe historical roots of metalworking predate recorded hi...</td>\n",
       "    </tr>\n",
       "    <tr>\n",
       "      <th>48</th>\n",
       "      <td>Metal fabrication</td>\n",
       "      <td>Metal fabrication is the creation of metal structures by cutting, bending and assembling processes. It is a value-added process involving the creation of machines, parts, and structures from various raw materials. \\nTypically, a fabrication shop bids on a job, usually based on engineering drawings, and if awarded the contract, builds the product. Large fab shops employ a multitude of value-add...</td>\n",
       "    </tr>\n",
       "  </tbody>\n",
       "</table>\n",
       "</div>"
      ],
      "text/plain": [
       "                title  \\\n",
       "97     Metal spinning   \n",
       "33       Metalworking   \n",
       "48  Metal fabrication   \n",
       "\n",
       "                                                                                                                                                                                                                                                                                                                                                                                                            summary  \n",
       "97  Metal spinning, also known as spin forming or spinning or metal turning most commonly, is a metalworking process by which a disc or tube of metal is rotated at high speed and formed into an axially symmetric part. Spinning can be performed by hand or by a CNC lathe.\\nThe metal spinning trade is one that dates back to antiquity and was a skill used in the Ancient Egyptian era. This is when meta...  \n",
       "33  Metalworking is the process of shaping and reshaping metals to create useful objects, parts, assemblies, and large scale structures. As a term it covers a wide and diverse range of processes, skills, and tools for producing objects on every scale: from huge ships, buildings, and bridges down to precise engine parts and delicate jewelry.\\nThe historical roots of metalworking predate recorded hi...  \n",
       "48  Metal fabrication is the creation of metal structures by cutting, bending and assembling processes. It is a value-added process involving the creation of machines, parts, and structures from various raw materials. \\nTypically, a fabrication shop bids on a job, usually based on engineering drawings, and if awarded the contract, builds the product. Large fab shops employ a multitude of value-add...  "
      ]
     },
     "metadata": {},
     "output_type": "display_data"
    }
   ],
   "source": [
    "unseen_process_description = textwrap.dedent(\"\"\"\n",
    "    I want to produce small metal part with complex geometry. \n",
    "    I dont like to use cutting processes. \n",
    "    Cost needs to be low. The volume is high.\n",
    "\"\"\")\n",
    "semantic_search(unseen_process_description, 3, df, embeddings)"
   ]
  }
 ],
 "metadata": {
  "kernelspec": {
   "display_name": "Python 3 (ipykernel)",
   "language": "python",
   "name": "python3"
  },
  "language_info": {
   "codemirror_mode": {
    "name": "ipython",
    "version": 3
   },
   "file_extension": ".py",
   "mimetype": "text/x-python",
   "name": "python",
   "nbconvert_exporter": "python",
   "pygments_lexer": "ipython3",
   "version": "3.10.9"
  }
 },
 "nbformat": 4,
 "nbformat_minor": 5
}
