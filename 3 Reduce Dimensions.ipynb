{
 "cells": [
  {
   "cell_type": "markdown",
   "id": "b0208e46-c7cc-48d3-89d7-a1fa606b6aaf",
   "metadata": {},
   "source": [
    "# 03 Dimensionality Reduction"
   ]
  },
  {
   "cell_type": "markdown",
   "id": "581f3116-e023-40ac-b5c3-6c6f4c0eca14",
   "metadata": {
    "tags": []
   },
   "source": [
    "## Imports and setup"
   ]
  },
  {
   "cell_type": "code",
   "execution_count": 1,
   "id": "4c9f95b7-9f56-45a2-be2a-37f825192b64",
   "metadata": {
    "tags": []
   },
   "outputs": [],
   "source": [
    "%matplotlib inline"
   ]
  },
  {
   "cell_type": "code",
   "execution_count": 2,
   "id": "309b0ddc-d178-449c-aa60-f5e6bac4cc27",
   "metadata": {
    "scrolled": true,
    "tags": []
   },
   "outputs": [
    {
     "name": "stderr",
     "output_type": "stream",
     "text": [
      "C:\\Users\\hristo\\anaconda3\\envs\\2023-general\\lib\\site-packages\\umap\\distances.py:1063: NumbaDeprecationWarning: \u001b[1mThe 'nopython' keyword argument was not supplied to the 'numba.jit' decorator. The implicit default value for this argument is currently False, but it will be changed to True in Numba 0.59.0. See https://numba.readthedocs.io/en/stable/reference/deprecation.html#deprecation-of-object-mode-fall-back-behaviour-when-using-jit for details.\u001b[0m\n",
      "  @numba.jit()\n",
      "C:\\Users\\hristo\\anaconda3\\envs\\2023-general\\lib\\site-packages\\umap\\distances.py:1071: NumbaDeprecationWarning: \u001b[1mThe 'nopython' keyword argument was not supplied to the 'numba.jit' decorator. The implicit default value for this argument is currently False, but it will be changed to True in Numba 0.59.0. See https://numba.readthedocs.io/en/stable/reference/deprecation.html#deprecation-of-object-mode-fall-back-behaviour-when-using-jit for details.\u001b[0m\n",
      "  @numba.jit()\n",
      "C:\\Users\\hristo\\anaconda3\\envs\\2023-general\\lib\\site-packages\\umap\\distances.py:1086: NumbaDeprecationWarning: \u001b[1mThe 'nopython' keyword argument was not supplied to the 'numba.jit' decorator. The implicit default value for this argument is currently False, but it will be changed to True in Numba 0.59.0. See https://numba.readthedocs.io/en/stable/reference/deprecation.html#deprecation-of-object-mode-fall-back-behaviour-when-using-jit for details.\u001b[0m\n",
      "  @numba.jit()\n",
      "C:\\Users\\hristo\\anaconda3\\envs\\2023-general\\lib\\site-packages\\umap\\umap_.py:660: NumbaDeprecationWarning: \u001b[1mThe 'nopython' keyword argument was not supplied to the 'numba.jit' decorator. The implicit default value for this argument is currently False, but it will be changed to True in Numba 0.59.0. See https://numba.readthedocs.io/en/stable/reference/deprecation.html#deprecation-of-object-mode-fall-back-behaviour-when-using-jit for details.\u001b[0m\n",
      "  @numba.jit()\n"
     ]
    }
   ],
   "source": [
    "import numpy as np\n",
    "import pandas as pd\n",
    "import matplotlib.pyplot as plt\n",
    "\n",
    "import pickle, random\n",
    "\n",
    "import bokeh, random\n",
    "\n",
    "from umap import UMAP"
   ]
  },
  {
   "cell_type": "code",
   "execution_count": 3,
   "id": "290ac06a-becc-4cc2-ae80-8055082e8111",
   "metadata": {
    "tags": []
   },
   "outputs": [],
   "source": [
    "SEED = 2023\n",
    "random.seed(SEED)"
   ]
  },
  {
   "cell_type": "markdown",
   "id": "f9d9413b-6882-4a0e-bab9-60673cf7c5f9",
   "metadata": {},
   "source": [
    "## Load embeddings and data"
   ]
  },
  {
   "cell_type": "code",
   "execution_count": 19,
   "id": "c95b4215-743f-41b6-8f52-042f0a655133",
   "metadata": {
    "tags": []
   },
   "outputs": [
    {
     "name": "stdout",
     "output_type": "stream",
     "text": [
      "Loaded article embeddings! Shape: (527, 384)\n"
     ]
    }
   ],
   "source": [
    "with open('data/transformer_embeddings.pickle', 'rb') as f:\n",
    "    embeddings = pickle.load(f)\n",
    "    \n",
    "print(f'Loaded article embeddings! Shape: {embeddings.shape}')"
   ]
  },
  {
   "cell_type": "code",
   "execution_count": 20,
   "id": "aec3d563-4542-42b1-a935-cf4b66516707",
   "metadata": {
    "tags": []
   },
   "outputs": [
    {
     "name": "stdout",
     "output_type": "stream",
     "text": [
      "Loaded pd.DataFrame with the article titles and their summaries.\n",
      "Shape: (527, 4)\n"
     ]
    },
    {
     "data": {
      "text/html": [
       "<div>\n",
       "<style scoped>\n",
       "    .dataframe tbody tr th:only-of-type {\n",
       "        vertical-align: middle;\n",
       "    }\n",
       "\n",
       "    .dataframe tbody tr th {\n",
       "        vertical-align: top;\n",
       "    }\n",
       "\n",
       "    .dataframe thead th {\n",
       "        text-align: right;\n",
       "    }\n",
       "</style>\n",
       "<table border=\"1\" class=\"dataframe\">\n",
       "  <thead>\n",
       "    <tr style=\"text-align: right;\">\n",
       "      <th></th>\n",
       "      <th>link</th>\n",
       "      <th>source_url</th>\n",
       "      <th>title</th>\n",
       "      <th>summary</th>\n",
       "    </tr>\n",
       "  </thead>\n",
       "  <tbody>\n",
       "    <tr>\n",
       "      <th>0</th>\n",
       "      <td>/wiki/Carbon_Arc_Welding</td>\n",
       "      <td>https://en.wikipedia.org/wiki/List_of_welding_...</td>\n",
       "      <td>Carbon arc welding</td>\n",
       "      <td>Carbon arc welding (CAW) is a process which pr...</td>\n",
       "    </tr>\n",
       "    <tr>\n",
       "      <th>1</th>\n",
       "      <td>/wiki/Flux_Cored_Arc_Welding</td>\n",
       "      <td>https://en.wikipedia.org/wiki/List_of_welding_...</td>\n",
       "      <td>Flux cored arc welding</td>\n",
       "      <td>&lt;!-- \\r\\nNewPP limit report\\r\\nParsed by mw140...</td>\n",
       "    </tr>\n",
       "  </tbody>\n",
       "</table>\n",
       "</div>"
      ],
      "text/plain": [
       "                           link  \\\n",
       "0      /wiki/Carbon_Arc_Welding   \n",
       "1  /wiki/Flux_Cored_Arc_Welding   \n",
       "\n",
       "                                          source_url                   title  \\\n",
       "0  https://en.wikipedia.org/wiki/List_of_welding_...      Carbon arc welding   \n",
       "1  https://en.wikipedia.org/wiki/List_of_welding_...  Flux cored arc welding   \n",
       "\n",
       "                                             summary  \n",
       "0  Carbon arc welding (CAW) is a process which pr...  \n",
       "1  <!-- \\r\\nNewPP limit report\\r\\nParsed by mw140...  "
      ]
     },
     "execution_count": 20,
     "metadata": {},
     "output_type": "execute_result"
    }
   ],
   "source": [
    "df = pd.read_csv('data/manufacturing_articles.csv')\n",
    "print(f'Loaded pd.DataFrame with the article titles and their summaries.')\n",
    "print(f'Shape: {df.shape}')\n",
    "df.head(2)"
   ]
  },
  {
   "cell_type": "markdown",
   "id": "b96e203d-0be7-487f-acc7-a34bf9c064e4",
   "metadata": {},
   "source": [
    "## Reduce dimensions using UMAP"
   ]
  },
  {
   "cell_type": "markdown",
   "id": "d81c53ac-6b96-4510-89cf-2a614af63701",
   "metadata": {},
   "source": [
    "Uniform Manifold Approximation and Projection"
   ]
  },
  {
   "cell_type": "code",
   "execution_count": 21,
   "id": "096d3408-c4e9-4ca1-9026-c56dcce8f16a",
   "metadata": {
    "tags": []
   },
   "outputs": [],
   "source": [
    "my_umap = UMAP(n_components=2)\n",
    "umap_embeddings = my_umap.fit_transform(embeddings)"
   ]
  },
  {
   "cell_type": "markdown",
   "id": "ab9e98df-55a1-4578-b2d5-21bbb2990d85",
   "metadata": {
    "tags": []
   },
   "source": [
    "## Export data for `bulk`"
   ]
  },
  {
   "cell_type": "code",
   "execution_count": 24,
   "id": "aeba1864-0715-40ea-a574-3ccc5f7fbb60",
   "metadata": {
    "tags": []
   },
   "outputs": [
    {
     "data": {
      "text/html": [
       "<div>\n",
       "<style scoped>\n",
       "    .dataframe tbody tr th:only-of-type {\n",
       "        vertical-align: middle;\n",
       "    }\n",
       "\n",
       "    .dataframe tbody tr th {\n",
       "        vertical-align: top;\n",
       "    }\n",
       "\n",
       "    .dataframe thead th {\n",
       "        text-align: right;\n",
       "    }\n",
       "</style>\n",
       "<table border=\"1\" class=\"dataframe\">\n",
       "  <thead>\n",
       "    <tr style=\"text-align: right;\">\n",
       "      <th></th>\n",
       "      <th>text</th>\n",
       "      <th>x</th>\n",
       "      <th>y</th>\n",
       "    </tr>\n",
       "  </thead>\n",
       "  <tbody>\n",
       "    <tr>\n",
       "      <th>0</th>\n",
       "      <td>Carbon arc welding</td>\n",
       "      <td>8.810158</td>\n",
       "      <td>9.205739</td>\n",
       "    </tr>\n",
       "    <tr>\n",
       "      <th>1</th>\n",
       "      <td>Flux cored arc welding</td>\n",
       "      <td>6.887566</td>\n",
       "      <td>5.127184</td>\n",
       "    </tr>\n",
       "    <tr>\n",
       "      <th>2</th>\n",
       "      <td>Gas metal arc welding</td>\n",
       "      <td>8.940374</td>\n",
       "      <td>9.374857</td>\n",
       "    </tr>\n",
       "    <tr>\n",
       "      <th>3</th>\n",
       "      <td>Shielding gas</td>\n",
       "      <td>8.983820</td>\n",
       "      <td>9.291036</td>\n",
       "    </tr>\n",
       "    <tr>\n",
       "      <th>4</th>\n",
       "      <td>Plasma arc welding</td>\n",
       "      <td>9.013934</td>\n",
       "      <td>9.136670</td>\n",
       "    </tr>\n",
       "  </tbody>\n",
       "</table>\n",
       "</div>"
      ],
      "text/plain": [
       "                     text         x         y\n",
       "0      Carbon arc welding  8.810158  9.205739\n",
       "1  Flux cored arc welding  6.887566  5.127184\n",
       "2   Gas metal arc welding  8.940374  9.374857\n",
       "3           Shielding gas  8.983820  9.291036\n",
       "4      Plasma arc welding  9.013934  9.136670"
      ]
     },
     "execution_count": 24,
     "metadata": {},
     "output_type": "execute_result"
    }
   ],
   "source": [
    "embeddings_2D = pd.DataFrame({\n",
    "    'text': df['title'],\n",
    "    'x': umap_embeddings[:, 0],\n",
    "    'y': umap_embeddings[:, 1],\n",
    "})\n",
    "\n",
    "embeddings_2D.head()"
   ]
  },
  {
   "cell_type": "code",
   "execution_count": 25,
   "id": "b4fec3f0-fbf9-4601-82b5-02381eebb09f",
   "metadata": {
    "tags": []
   },
   "outputs": [],
   "source": [
    "# Save\n",
    "embeddings_2D.to_csv(\"embeddings/umap_2d.csv\", index=False)"
   ]
  },
  {
   "cell_type": "markdown",
   "id": "445fce28-24a4-49f7-8258-902df8333af9",
   "metadata": {},
   "source": [
    "## Plot using `bokeh`\n",
    "\n",
    "Alternative `bokeh` plot in this notebook in case `bulk` is not used."
   ]
  },
  {
   "cell_type": "code",
   "execution_count": 26,
   "id": "01103918-f4dd-4434-bedd-2cd31dcda643",
   "metadata": {
    "tags": []
   },
   "outputs": [],
   "source": [
    "# Load\n",
    "embeddings_2D = pd.read_csv(\"embeddings/umap_2d.csv\")"
   ]
  },
  {
   "cell_type": "code",
   "execution_count": 27,
   "id": "a12155b6-3246-4a5a-9ec0-dc7f9b8f86c1",
   "metadata": {
    "tags": []
   },
   "outputs": [
    {
     "data": {
      "text/html": [
       "<style>\n",
       "        .bk-notebook-logo {\n",
       "            display: block;\n",
       "            width: 20px;\n",
       "            height: 20px;\n",
       "            background-image: url(data:image/png;base64,iVBORw0KGgoAAAANSUhEUgAAABQAAAAUCAYAAACNiR0NAAAABHNCSVQICAgIfAhkiAAAAAlwSFlzAAALEgAACxIB0t1+/AAAABx0RVh0U29mdHdhcmUAQWRvYmUgRmlyZXdvcmtzIENTNui8sowAAAOkSURBVDiNjZRtaJVlGMd/1/08zzln5zjP1LWcU9N0NkN8m2CYjpgQYQXqSs0I84OLIC0hkEKoPtiH3gmKoiJDU7QpLgoLjLIQCpEsNJ1vqUOdO7ppbuec5+V+rj4ctwzd8IIbbi6u+8f1539dt3A78eXC7QizUF7gyV1fD1Yqg4JWz84yffhm0qkFqBogB9rM8tZdtwVsPUhWhGcFJngGeWrPzHm5oaMmkfEg1usvLFyc8jLRqDOMru7AyC8saQr7GG7f5fvDeH7Ej8CM66nIF+8yngt6HWaKh7k49Soy9nXurCi1o3qUbS3zWfrYeQDTB/Qj6kX6Ybhw4B+bOYoLKCC9H3Nu/leUTZ1JdRWkkn2ldcCamzrcf47KKXdAJllSlxAOkRgyHsGC/zRday5Qld9DyoM4/q/rUoy/CXh3jzOu3bHUVZeU+DEn8FInkPBFlu3+nW3Nw0mk6vCDiWg8CeJaxEwuHS3+z5RgY+YBR6V1Z1nxSOfoaPa4LASWxxdNp+VWTk7+4vzaou8v8PN+xo+KY2xsw6une2frhw05CTYOmQvsEhjhWjn0bmXPjpE1+kplmmkP3suftwTubK9Vq22qKmrBhpY4jvd5afdRA3wGjFAgcnTK2s4hY0/GPNIb0nErGMCRxWOOX64Z8RAC4oCXdklmEvcL8o0BfkNK4lUg9HTl+oPlQxdNo3Mg4Nv175e/1LDGzZen30MEjRUtmXSfiTVu1kK8W4txyV6BMKlbgk3lMwYCiusNy9fVfvvwMxv8Ynl6vxoByANLTWplvuj/nF9m2+PDtt1eiHPBr1oIfhCChQMBw6Aw0UulqTKZdfVvfG7VcfIqLG9bcldL/+pdWTLxLUy8Qq38heUIjh4XlzZxzQm19lLFlr8vdQ97rjZVOLf8nclzckbcD4wxXMidpX30sFd37Fv/GtwwhzhxGVAprjbg0gCAEeIgwCZyTV2Z1REEW8O4py0wsjeloKoMr6iCY6dP92H6Vw/oTyICIthibxjm/DfN9lVz8IqtqKYLUXfoKVMVQVVJOElGjrnnUt9T9wbgp8AyYKaGlqingHZU/uG2NTZSVqwHQTWkx9hxjkpWDaCg6Ckj5qebgBVbT3V3NNXMSiWSDdGV3hrtzla7J+duwPOToIg42ChPQOQjspnSlp1V+Gjdged7+8UN5CRAV7a5EdFNwCjEaBR27b3W890TE7g24NAP/mMDXRWrGoFPQI9ls/MWO2dWFAar/xcOIImbbpA3zgAAAABJRU5ErkJggg==);\n",
       "        }\n",
       "    </style>\n",
       "    <div>\n",
       "        <a href=\"https://bokeh.org\" target=\"_blank\" class=\"bk-notebook-logo\"></a>\n",
       "        <span id=\"bb4d5ffb-d8e7-45c1-b55b-1e431d4d01df\">Loading BokehJS ...</span>\n",
       "    </div>\n"
      ]
     },
     "metadata": {},
     "output_type": "display_data"
    },
    {
     "data": {
      "application/javascript": [
       "(function(root) {\n",
       "  function now() {\n",
       "    return new Date();\n",
       "  }\n",
       "\n",
       "  const force = true;\n",
       "\n",
       "  if (typeof root._bokeh_onload_callbacks === \"undefined\" || force === true) {\n",
       "    root._bokeh_onload_callbacks = [];\n",
       "    root._bokeh_is_loading = undefined;\n",
       "  }\n",
       "\n",
       "const JS_MIME_TYPE = 'application/javascript';\n",
       "  const HTML_MIME_TYPE = 'text/html';\n",
       "  const EXEC_MIME_TYPE = 'application/vnd.bokehjs_exec.v0+json';\n",
       "  const CLASS_NAME = 'output_bokeh rendered_html';\n",
       "\n",
       "  /**\n",
       "   * Render data to the DOM node\n",
       "   */\n",
       "  function render(props, node) {\n",
       "    const script = document.createElement(\"script\");\n",
       "    node.appendChild(script);\n",
       "  }\n",
       "\n",
       "  /**\n",
       "   * Handle when an output is cleared or removed\n",
       "   */\n",
       "  function handleClearOutput(event, handle) {\n",
       "    const cell = handle.cell;\n",
       "\n",
       "    const id = cell.output_area._bokeh_element_id;\n",
       "    const server_id = cell.output_area._bokeh_server_id;\n",
       "    // Clean up Bokeh references\n",
       "    if (id != null && id in Bokeh.index) {\n",
       "      Bokeh.index[id].model.document.clear();\n",
       "      delete Bokeh.index[id];\n",
       "    }\n",
       "\n",
       "    if (server_id !== undefined) {\n",
       "      // Clean up Bokeh references\n",
       "      const cmd_clean = \"from bokeh.io.state import curstate; print(curstate().uuid_to_server['\" + server_id + \"'].get_sessions()[0].document.roots[0]._id)\";\n",
       "      cell.notebook.kernel.execute(cmd_clean, {\n",
       "        iopub: {\n",
       "          output: function(msg) {\n",
       "            const id = msg.content.text.trim();\n",
       "            if (id in Bokeh.index) {\n",
       "              Bokeh.index[id].model.document.clear();\n",
       "              delete Bokeh.index[id];\n",
       "            }\n",
       "          }\n",
       "        }\n",
       "      });\n",
       "      // Destroy server and session\n",
       "      const cmd_destroy = \"import bokeh.io.notebook as ion; ion.destroy_server('\" + server_id + \"')\";\n",
       "      cell.notebook.kernel.execute(cmd_destroy);\n",
       "    }\n",
       "  }\n",
       "\n",
       "  /**\n",
       "   * Handle when a new output is added\n",
       "   */\n",
       "  function handleAddOutput(event, handle) {\n",
       "    const output_area = handle.output_area;\n",
       "    const output = handle.output;\n",
       "\n",
       "    // limit handleAddOutput to display_data with EXEC_MIME_TYPE content only\n",
       "    if ((output.output_type != \"display_data\") || (!Object.prototype.hasOwnProperty.call(output.data, EXEC_MIME_TYPE))) {\n",
       "      return\n",
       "    }\n",
       "\n",
       "    const toinsert = output_area.element.find(\".\" + CLASS_NAME.split(' ')[0]);\n",
       "\n",
       "    if (output.metadata[EXEC_MIME_TYPE][\"id\"] !== undefined) {\n",
       "      toinsert[toinsert.length - 1].firstChild.textContent = output.data[JS_MIME_TYPE];\n",
       "      // store reference to embed id on output_area\n",
       "      output_area._bokeh_element_id = output.metadata[EXEC_MIME_TYPE][\"id\"];\n",
       "    }\n",
       "    if (output.metadata[EXEC_MIME_TYPE][\"server_id\"] !== undefined) {\n",
       "      const bk_div = document.createElement(\"div\");\n",
       "      bk_div.innerHTML = output.data[HTML_MIME_TYPE];\n",
       "      const script_attrs = bk_div.children[0].attributes;\n",
       "      for (let i = 0; i < script_attrs.length; i++) {\n",
       "        toinsert[toinsert.length - 1].firstChild.setAttribute(script_attrs[i].name, script_attrs[i].value);\n",
       "        toinsert[toinsert.length - 1].firstChild.textContent = bk_div.children[0].textContent\n",
       "      }\n",
       "      // store reference to server id on output_area\n",
       "      output_area._bokeh_server_id = output.metadata[EXEC_MIME_TYPE][\"server_id\"];\n",
       "    }\n",
       "  }\n",
       "\n",
       "  function register_renderer(events, OutputArea) {\n",
       "\n",
       "    function append_mime(data, metadata, element) {\n",
       "      // create a DOM node to render to\n",
       "      const toinsert = this.create_output_subarea(\n",
       "        metadata,\n",
       "        CLASS_NAME,\n",
       "        EXEC_MIME_TYPE\n",
       "      );\n",
       "      this.keyboard_manager.register_events(toinsert);\n",
       "      // Render to node\n",
       "      const props = {data: data, metadata: metadata[EXEC_MIME_TYPE]};\n",
       "      render(props, toinsert[toinsert.length - 1]);\n",
       "      element.append(toinsert);\n",
       "      return toinsert\n",
       "    }\n",
       "\n",
       "    /* Handle when an output is cleared or removed */\n",
       "    events.on('clear_output.CodeCell', handleClearOutput);\n",
       "    events.on('delete.Cell', handleClearOutput);\n",
       "\n",
       "    /* Handle when a new output is added */\n",
       "    events.on('output_added.OutputArea', handleAddOutput);\n",
       "\n",
       "    /**\n",
       "     * Register the mime type and append_mime function with output_area\n",
       "     */\n",
       "    OutputArea.prototype.register_mime_type(EXEC_MIME_TYPE, append_mime, {\n",
       "      /* Is output safe? */\n",
       "      safe: true,\n",
       "      /* Index of renderer in `output_area.display_order` */\n",
       "      index: 0\n",
       "    });\n",
       "  }\n",
       "\n",
       "  // register the mime type if in Jupyter Notebook environment and previously unregistered\n",
       "  if (root.Jupyter !== undefined) {\n",
       "    const events = require('base/js/events');\n",
       "    const OutputArea = require('notebook/js/outputarea').OutputArea;\n",
       "\n",
       "    if (OutputArea.prototype.mime_types().indexOf(EXEC_MIME_TYPE) == -1) {\n",
       "      register_renderer(events, OutputArea);\n",
       "    }\n",
       "  }\n",
       "  if (typeof (root._bokeh_timeout) === \"undefined\" || force === true) {\n",
       "    root._bokeh_timeout = Date.now() + 5000;\n",
       "    root._bokeh_failed_load = false;\n",
       "  }\n",
       "\n",
       "  const NB_LOAD_WARNING = {'data': {'text/html':\n",
       "     \"<div style='background-color: #fdd'>\\n\"+\n",
       "     \"<p>\\n\"+\n",
       "     \"BokehJS does not appear to have successfully loaded. If loading BokehJS from CDN, this \\n\"+\n",
       "     \"may be due to a slow or bad network connection. Possible fixes:\\n\"+\n",
       "     \"</p>\\n\"+\n",
       "     \"<ul>\\n\"+\n",
       "     \"<li>re-rerun `output_notebook()` to attempt to load from CDN again, or</li>\\n\"+\n",
       "     \"<li>use INLINE resources instead, as so:</li>\\n\"+\n",
       "     \"</ul>\\n\"+\n",
       "     \"<code>\\n\"+\n",
       "     \"from bokeh.resources import INLINE\\n\"+\n",
       "     \"output_notebook(resources=INLINE)\\n\"+\n",
       "     \"</code>\\n\"+\n",
       "     \"</div>\"}};\n",
       "\n",
       "  function display_loaded() {\n",
       "    const el = document.getElementById(\"bb4d5ffb-d8e7-45c1-b55b-1e431d4d01df\");\n",
       "    if (el != null) {\n",
       "      el.textContent = \"BokehJS is loading...\";\n",
       "    }\n",
       "    if (root.Bokeh !== undefined) {\n",
       "      if (el != null) {\n",
       "        el.textContent = \"BokehJS \" + root.Bokeh.version + \" successfully loaded.\";\n",
       "      }\n",
       "    } else if (Date.now() < root._bokeh_timeout) {\n",
       "      setTimeout(display_loaded, 100)\n",
       "    }\n",
       "  }\n",
       "\n",
       "  function run_callbacks() {\n",
       "    try {\n",
       "      root._bokeh_onload_callbacks.forEach(function(callback) {\n",
       "        if (callback != null)\n",
       "          callback();\n",
       "      });\n",
       "    } finally {\n",
       "      delete root._bokeh_onload_callbacks\n",
       "    }\n",
       "    console.debug(\"Bokeh: all callbacks have finished\");\n",
       "  }\n",
       "\n",
       "  function load_libs(css_urls, js_urls, callback) {\n",
       "    if (css_urls == null) css_urls = [];\n",
       "    if (js_urls == null) js_urls = [];\n",
       "\n",
       "    root._bokeh_onload_callbacks.push(callback);\n",
       "    if (root._bokeh_is_loading > 0) {\n",
       "      console.debug(\"Bokeh: BokehJS is being loaded, scheduling callback at\", now());\n",
       "      return null;\n",
       "    }\n",
       "    if (js_urls == null || js_urls.length === 0) {\n",
       "      run_callbacks();\n",
       "      return null;\n",
       "    }\n",
       "    console.debug(\"Bokeh: BokehJS not loaded, scheduling load and callback at\", now());\n",
       "    root._bokeh_is_loading = css_urls.length + js_urls.length;\n",
       "\n",
       "    function on_load() {\n",
       "      root._bokeh_is_loading--;\n",
       "      if (root._bokeh_is_loading === 0) {\n",
       "        console.debug(\"Bokeh: all BokehJS libraries/stylesheets loaded\");\n",
       "        run_callbacks()\n",
       "      }\n",
       "    }\n",
       "\n",
       "    function on_error(url) {\n",
       "      console.error(\"failed to load \" + url);\n",
       "    }\n",
       "\n",
       "    for (let i = 0; i < css_urls.length; i++) {\n",
       "      const url = css_urls[i];\n",
       "      const element = document.createElement(\"link\");\n",
       "      element.onload = on_load;\n",
       "      element.onerror = on_error.bind(null, url);\n",
       "      element.rel = \"stylesheet\";\n",
       "      element.type = \"text/css\";\n",
       "      element.href = url;\n",
       "      console.debug(\"Bokeh: injecting link tag for BokehJS stylesheet: \", url);\n",
       "      document.body.appendChild(element);\n",
       "    }\n",
       "\n",
       "    for (let i = 0; i < js_urls.length; i++) {\n",
       "      const url = js_urls[i];\n",
       "      const element = document.createElement('script');\n",
       "      element.onload = on_load;\n",
       "      element.onerror = on_error.bind(null, url);\n",
       "      element.async = false;\n",
       "      element.src = url;\n",
       "      console.debug(\"Bokeh: injecting script tag for BokehJS library: \", url);\n",
       "      document.head.appendChild(element);\n",
       "    }\n",
       "  };\n",
       "\n",
       "  function inject_raw_css(css) {\n",
       "    const element = document.createElement(\"style\");\n",
       "    element.appendChild(document.createTextNode(css));\n",
       "    document.body.appendChild(element);\n",
       "  }\n",
       "\n",
       "  const js_urls = [\"https://cdn.bokeh.org/bokeh/release/bokeh-3.1.1.min.js\", \"https://cdn.bokeh.org/bokeh/release/bokeh-gl-3.1.1.min.js\", \"https://cdn.bokeh.org/bokeh/release/bokeh-widgets-3.1.1.min.js\", \"https://cdn.bokeh.org/bokeh/release/bokeh-tables-3.1.1.min.js\", \"https://cdn.bokeh.org/bokeh/release/bokeh-mathjax-3.1.1.min.js\"];\n",
       "  const css_urls = [];\n",
       "\n",
       "  const inline_js = [    function(Bokeh) {\n",
       "      Bokeh.set_log_level(\"info\");\n",
       "    },\n",
       "function(Bokeh) {\n",
       "    }\n",
       "  ];\n",
       "\n",
       "  function run_inline_js() {\n",
       "    if (root.Bokeh !== undefined || force === true) {\n",
       "          for (let i = 0; i < inline_js.length; i++) {\n",
       "      inline_js[i].call(root, root.Bokeh);\n",
       "    }\n",
       "if (force === true) {\n",
       "        display_loaded();\n",
       "      }} else if (Date.now() < root._bokeh_timeout) {\n",
       "      setTimeout(run_inline_js, 100);\n",
       "    } else if (!root._bokeh_failed_load) {\n",
       "      console.log(\"Bokeh: BokehJS failed to load within specified timeout.\");\n",
       "      root._bokeh_failed_load = true;\n",
       "    } else if (force !== true) {\n",
       "      const cell = $(document.getElementById(\"bb4d5ffb-d8e7-45c1-b55b-1e431d4d01df\")).parents('.cell').data().cell;\n",
       "      cell.output_area.append_execute_result(NB_LOAD_WARNING)\n",
       "    }\n",
       "  }\n",
       "\n",
       "  if (root._bokeh_is_loading === 0) {\n",
       "    console.debug(\"Bokeh: BokehJS loaded, going straight to plotting\");\n",
       "    run_inline_js();\n",
       "  } else {\n",
       "    load_libs(css_urls, js_urls, function() {\n",
       "      console.debug(\"Bokeh: BokehJS plotting callback run at\", now());\n",
       "      run_inline_js();\n",
       "    });\n",
       "  }\n",
       "}(window));"
      ],
      "application/vnd.bokehjs_load.v0+json": "(function(root) {\n  function now() {\n    return new Date();\n  }\n\n  const force = true;\n\n  if (typeof root._bokeh_onload_callbacks === \"undefined\" || force === true) {\n    root._bokeh_onload_callbacks = [];\n    root._bokeh_is_loading = undefined;\n  }\n\n\n  if (typeof (root._bokeh_timeout) === \"undefined\" || force === true) {\n    root._bokeh_timeout = Date.now() + 5000;\n    root._bokeh_failed_load = false;\n  }\n\n  const NB_LOAD_WARNING = {'data': {'text/html':\n     \"<div style='background-color: #fdd'>\\n\"+\n     \"<p>\\n\"+\n     \"BokehJS does not appear to have successfully loaded. If loading BokehJS from CDN, this \\n\"+\n     \"may be due to a slow or bad network connection. Possible fixes:\\n\"+\n     \"</p>\\n\"+\n     \"<ul>\\n\"+\n     \"<li>re-rerun `output_notebook()` to attempt to load from CDN again, or</li>\\n\"+\n     \"<li>use INLINE resources instead, as so:</li>\\n\"+\n     \"</ul>\\n\"+\n     \"<code>\\n\"+\n     \"from bokeh.resources import INLINE\\n\"+\n     \"output_notebook(resources=INLINE)\\n\"+\n     \"</code>\\n\"+\n     \"</div>\"}};\n\n  function display_loaded() {\n    const el = document.getElementById(\"bb4d5ffb-d8e7-45c1-b55b-1e431d4d01df\");\n    if (el != null) {\n      el.textContent = \"BokehJS is loading...\";\n    }\n    if (root.Bokeh !== undefined) {\n      if (el != null) {\n        el.textContent = \"BokehJS \" + root.Bokeh.version + \" successfully loaded.\";\n      }\n    } else if (Date.now() < root._bokeh_timeout) {\n      setTimeout(display_loaded, 100)\n    }\n  }\n\n  function run_callbacks() {\n    try {\n      root._bokeh_onload_callbacks.forEach(function(callback) {\n        if (callback != null)\n          callback();\n      });\n    } finally {\n      delete root._bokeh_onload_callbacks\n    }\n    console.debug(\"Bokeh: all callbacks have finished\");\n  }\n\n  function load_libs(css_urls, js_urls, callback) {\n    if (css_urls == null) css_urls = [];\n    if (js_urls == null) js_urls = [];\n\n    root._bokeh_onload_callbacks.push(callback);\n    if (root._bokeh_is_loading > 0) {\n      console.debug(\"Bokeh: BokehJS is being loaded, scheduling callback at\", now());\n      return null;\n    }\n    if (js_urls == null || js_urls.length === 0) {\n      run_callbacks();\n      return null;\n    }\n    console.debug(\"Bokeh: BokehJS not loaded, scheduling load and callback at\", now());\n    root._bokeh_is_loading = css_urls.length + js_urls.length;\n\n    function on_load() {\n      root._bokeh_is_loading--;\n      if (root._bokeh_is_loading === 0) {\n        console.debug(\"Bokeh: all BokehJS libraries/stylesheets loaded\");\n        run_callbacks()\n      }\n    }\n\n    function on_error(url) {\n      console.error(\"failed to load \" + url);\n    }\n\n    for (let i = 0; i < css_urls.length; i++) {\n      const url = css_urls[i];\n      const element = document.createElement(\"link\");\n      element.onload = on_load;\n      element.onerror = on_error.bind(null, url);\n      element.rel = \"stylesheet\";\n      element.type = \"text/css\";\n      element.href = url;\n      console.debug(\"Bokeh: injecting link tag for BokehJS stylesheet: \", url);\n      document.body.appendChild(element);\n    }\n\n    for (let i = 0; i < js_urls.length; i++) {\n      const url = js_urls[i];\n      const element = document.createElement('script');\n      element.onload = on_load;\n      element.onerror = on_error.bind(null, url);\n      element.async = false;\n      element.src = url;\n      console.debug(\"Bokeh: injecting script tag for BokehJS library: \", url);\n      document.head.appendChild(element);\n    }\n  };\n\n  function inject_raw_css(css) {\n    const element = document.createElement(\"style\");\n    element.appendChild(document.createTextNode(css));\n    document.body.appendChild(element);\n  }\n\n  const js_urls = [\"https://cdn.bokeh.org/bokeh/release/bokeh-3.1.1.min.js\", \"https://cdn.bokeh.org/bokeh/release/bokeh-gl-3.1.1.min.js\", \"https://cdn.bokeh.org/bokeh/release/bokeh-widgets-3.1.1.min.js\", \"https://cdn.bokeh.org/bokeh/release/bokeh-tables-3.1.1.min.js\", \"https://cdn.bokeh.org/bokeh/release/bokeh-mathjax-3.1.1.min.js\"];\n  const css_urls = [];\n\n  const inline_js = [    function(Bokeh) {\n      Bokeh.set_log_level(\"info\");\n    },\nfunction(Bokeh) {\n    }\n  ];\n\n  function run_inline_js() {\n    if (root.Bokeh !== undefined || force === true) {\n          for (let i = 0; i < inline_js.length; i++) {\n      inline_js[i].call(root, root.Bokeh);\n    }\nif (force === true) {\n        display_loaded();\n      }} else if (Date.now() < root._bokeh_timeout) {\n      setTimeout(run_inline_js, 100);\n    } else if (!root._bokeh_failed_load) {\n      console.log(\"Bokeh: BokehJS failed to load within specified timeout.\");\n      root._bokeh_failed_load = true;\n    } else if (force !== true) {\n      const cell = $(document.getElementById(\"bb4d5ffb-d8e7-45c1-b55b-1e431d4d01df\")).parents('.cell').data().cell;\n      cell.output_area.append_execute_result(NB_LOAD_WARNING)\n    }\n  }\n\n  if (root._bokeh_is_loading === 0) {\n    console.debug(\"Bokeh: BokehJS loaded, going straight to plotting\");\n    run_inline_js();\n  } else {\n    load_libs(css_urls, js_urls, function() {\n      console.debug(\"Bokeh: BokehJS plotting callback run at\", now());\n      run_inline_js();\n    });\n  }\n}(window));"
     },
     "metadata": {},
     "output_type": "display_data"
    },
    {
     "data": {
      "text/html": [
       "\n",
       "  <div id=\"dcff8b09-47e6-4d17-92d9-898031d52bec\" data-root-id=\"p1502\" style=\"display: contents;\"></div>\n"
      ]
     },
     "metadata": {},
     "output_type": "display_data"
    },
    {
     "data": {
      "application/javascript": [
       "(function(root) {\n",
       "  function embed_document(root) {\n",
       "  const docs_json = {\"e6d57812-a25b-4d1c-9cb2-4c2fd21a6b24\":{\"version\":\"3.1.1\",\"title\":\"Bokeh Application\",\"defs\":[],\"roots\":[{\"type\":\"object\",\"name\":\"Figure\",\"id\":\"p1502\",\"attributes\":{\"x_range\":{\"type\":\"object\",\"name\":\"DataRange1d\",\"id\":\"p1503\"},\"y_range\":{\"type\":\"object\",\"name\":\"DataRange1d\",\"id\":\"p1504\"},\"x_scale\":{\"type\":\"object\",\"name\":\"LinearScale\",\"id\":\"p1515\"},\"y_scale\":{\"type\":\"object\",\"name\":\"LinearScale\",\"id\":\"p1517\"},\"title\":{\"type\":\"object\",\"name\":\"Title\",\"id\":\"p1508\"},\"renderers\":[{\"type\":\"object\",\"name\":\"GlyphRenderer\",\"id\":\"p1546\",\"attributes\":{\"data_source\":{\"type\":\"object\",\"name\":\"ColumnDataSource\",\"id\":\"p1499\",\"attributes\":{\"selected\":{\"type\":\"object\",\"name\":\"Selection\",\"id\":\"p1501\",\"attributes\":{\"indices\":[],\"line_indices\":[]}},\"selection_policy\":{\"type\":\"object\",\"name\":\"UnionRenderers\",\"id\":\"p1500\"},\"data\":{\"type\":\"map\",\"entries\":[[\"index\",{\"type\":\"ndarray\",\"array\":{\"type\":\"bytes\",\"data\":\"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\"},\"shape\":[527],\"dtype\":\"int32\",\"order\":\"little\"}],[\"text\",{\"type\":\"ndarray\",\"array\":[\"Carbon arc welding\",\"Flux cored arc welding\",\"Gas metal arc welding\",\"Shielding gas\",\"Plasma arc welding\",\"Shielded metal arc welding\",\"Submerged arc welding\",\"Atomic hydrogen welding\",\"Propane\",\"Spot welding\",\"Drum (container)\",\"Flash welding\",\"Upset welding\",\"Cold welding\",\"Explosion welding\",\"Magnetic pulse welding\",\"Forge welding\",\"Damascus steel\",\"Friction welding\",\"Friction stir welding\",\"Hot isostatic pressing\",\"Autoclave\",\"Ultrasonic welding\",\"Electroslag welding\",\"Induction welding\",\"Laser beam welding\",\"Laser-hybrid welding\",\"Percussion welding\",\"Electrogas welding\",\"Isbn (identifier)\",\"Symbols and conventions used in welding documentation\",\"Cladding (metalworking)\",\"Template:metalworking navbox\",\"Metalworking\",\"Flux-cored arc welding\",\"Electric resistance welding\",\"Electron-beam welding\",\"Exothermic welding\",\"Friction stud welding\",\"Oxy-fuel welding and cutting\",\"Electrode\",\"Filler metal\",\"Welding helmet\",\"Welding power supply\",\"Robot welding\",\"Heat-affected zone\",\"Photokeratitis\",\"Weldability\",\"Metal fabrication\",\"Forming processes\",\"Machining\",\"Metallurgy\",\"Outline of metalworking\",\"Thermoforming\",\"Centrifugal casting (industrial)\",\"Continuous casting\",\"Evaporative-pattern casting\",\"Full-mold casting\",\"Lost-foam casting\",\"Investment casting\",\"Permanent mold casting\",\"Resin casting\",\"Sand casting\",\"Shell molding\",\"Coating\",\"Chemical vapor deposition\",\"Sputter deposition\",\"Thermal spraying\",\"Powder metallurgy\",\"Sintering\",\"Spray forming\",\"Dip moulding\",\"Forming (metalworking)\",\"Tube beading\",\"Machine press\",\"Impact (mechanics)\",\"Extrusion\",\"Incremental sheet forming\",\"Sheet metal\",\"Screw thread\",\"Impact extrusion\",\"Embossing (manufacturing)\",\"Die (manufacturing)\",\"Drawing (manufacturing)\",\"Necking (engineering)\",\"Deep drawing\",\"Hemming and seaming\",\"Blanking and piercing\",\"Cutting\",\"Notching\",\"Stamping (metalworking)\",\"Leather stamping\",\"Progressive stamping\",\"Coining (metalworking)\",\"Ironing (metalworking)\",\"Flattening\",\"Swaging\",\"Metal spinning\",\"Peening\",\"Explosive forming\",\"Electroforming\",\"Staking (manufacturing)\",\"Flanging\",\"Decambering\",\"Cold sizing\",\"Hubbing\",\"Hot metal gas forming\",\"Curling (metalworking)\",\"Hydroforming\",\"Hammer mill\",\"Ball mill\",\"Disc mill\",\"Steel mill\",\"Refining\",\"Pickling (metal)\",\"Facing (machining)\",\"Boring (manufacturing)\",\"Knurling\",\"Drilling\",\"Friction drilling\",\"Planing (shaping)\",\"Abrasive jet machining\",\"Photochemical machining\",\"Honing (metalworking)\",\"Sharpening\",\"Industrial finishing\",\"Burnishing (metal)\",\"Electroplating\",\"Electropolishing\",\"Etching\",\"Linishing\",\"Mass finishing\",\"Tumble finishing\",\"Vibratory finishing\",\"Polishing\",\"Superfinishing\",\"Ultrasonic machining\",\"Electrical discharge machining\",\"Electrochemical machining\",\"Photochemistry\",\"Laser cutting\",\"Laser drilling\",\"Grinding (abrasive cutting)\",\"High stock removal\",\"Gashing\",\"Biomachining\",\"Short circuit\",\"Stud welding\",\"Carbon dioxide\",\"Butt welding\",\"Shot welding\",\"Diffusion\",\"Vacuum furnace\",\"Dielectric\",\"Infrared\",\"Vacuum\",\"Induction brazing\",\"Hot plate\",\"Induction heating\",\"Dip soldering\",\"Wave\",\"Adhesive bonding\",\"Thermoplastic\",\"Epoxy\",\"Polyurethane\",\"Fastener\",\"Screw\",\"Nut (hardware)\",\"Rivet\",\"Pin\",\"Cotter (pin)\",\"Taper pin\",\"Spring pin\",\"Quick release skewer\",\"Stitch (textile arts)\",\"Filament winding\",\"Composite material\",\"Laminated object manufacturing\",\"Laser engineered net shaping\",\"Selective laser sintering\",\"Spark plasma sintering\",\"Stereolithography\",\"Petroleum refining processes\",\"Assembly line\",\"Lapping\",\"Mortise and tenon\",\"Router (woodworking)\",\"Biscuit joiner\",\"Heat treating\",\"Bake-out\",\"Electronics\",\"Mechanization\",\"Activation energy\",\"Calcination\",\"Calcium carbonate\",\"Calcium oxide\",\"By-product\",\"Flux (metallurgy)\",\"Carbon monoxide\",\"Ore\",\"Iron ore\",\"Ammonia production\",\"Chemical process\",\"Pyroprocessing\",\"Cement kiln\",\"Gilding\",\"Electrolytic process\",\"Electrophoretic deposition\",\"Electrotyping\",\"Metallizing\",\"Spin coating\",\"Shearing (manufacturing)\",\"Plasma cutting\",\"Steelmaking\",\"Precipitation hardening\",\"Shot peening\",\"Electric arc furnace\",\"Open hearth furnace\",\"Direct reduced iron\",\"Cementation process\",\"Basic oxygen steelmaking\",\"Plastic container\",\"Comminution\",\"Froth flotation\",\"Liquid%e2%80%93liquid extraction\",\"Frasch process\",\"Volatility (chemistry)\",\"Condensation\",\"Fractional distillation\",\"Steam distillation\",\"Vacuum distillation\",\"Batch distillation\",\"Continuous distillation\",\"Fractionating column\",\"Spinning cone\",\"Photolithography\",\"Cracking (chemistry)\",\"Alkylation\",\"Burton process\",\"Cumene process\",\"Thermal depolymerization\",\"Raschig hydroxylamine process\",\"Hydroxylamine\",\"Deville process\",\"Bayer process\",\"W%c3%b6hler process\",\"Ammonia\",\"Chloralkali process\",\"Weldon process\",\"Nitrophosphate process\",\"Float glass\",\"Bacterial oxidation\",\"Parkes process\",\"Acheson process\",\"Heavy water\",\"Water%e2%80%93gas shift reaction\",\"Steam reforming\",\"Betts electrolytic process\",\"Mond process\",\"Nitric acid\",\"Ostwald process\",\"Kraft process\",\"Alberger process\",\"Grainer evaporation process\",\"Semiconductor\",\"Czochralski method\",\"Patio process\",\"Silicon carbide\",\"Sodium carbonate\",\"Leblanc process\",\"Solvay process\",\"Lead chamber process\",\"Contact process\",\"Hunter process\",\"Kroll process\",\"Zirconium\",\"Pidgeon process\",\"Formox process\",\"Chemical engineering\",\"Template talk:industries\",\"Industry (economics)\",\"Primary sector of the economy\",\"Vegetable farming\",\"Vegetable oil\",\"Sugar industry\",\"Permanent crop\",\"Pome\",\"Drupe\",\"Viticulture\",\"Horticulture industry\",\"Floral industry\",\"Seed company\",\"Beef cattle\",\"Horse industry\",\"Livestock\",\"Beekeeping\",\"Lac\",\"Forestry\",\"Silviculture\",\"Bamboo cultivation\",\"Logging\",\"Palm syrup\",\"Naval stores industry\",\"Mushroom hunting\",\"Cod fisheries\",\"Crab fisheries\",\"Lobster fishing\",\"Aquaculture\",\"Aquaculture of catfish\",\"Aquaculture of tilapia\",\"Oyster farming\",\"Cultured pearl\",\"Culture of microalgae in hatcheries\",\"Seaweed farming\",\"Clam digging\",\"Oil shale industry\",\"Silver mining\",\"Uranium mining\",\"Gravel pit\",\"Sand mining\",\"Chalk mining\",\"Clay pit\",\"Light industry\",\"Food industry\",\"Feed manufacturing\",\"Meat industry\",\"Candy making\",\"Drink industry\",\"Winemaking\",\"Dyeing\",\"Textile printing\",\"Weaving\",\"Carpet\",\"Linens\",\"Clothing industry\",\"Fashion accessory\",\"Paper embossing\",\"Security printing\",\"Builders hardware\",\"Household hardware\",\"Gunsmith\",\"Locksmithing\",\"Machine shop\",\"Surface finishing\",\"Glassblowing\",\"Stonemasonry\",\"Furniture\",\"Bicycle industry\",\"Medical device\",\"Office supplies\",\"Electronics industry\",\"Electronic component\",\"Semiconductor industry\",\"Telecommunications equipment\",\"Network equipment provider\",\"Instrumentation\",\"Clockmaker\",\"Optical instrument\",\"Spotting scope\",\"Laser construction\",\"Optical manufacturing and testing\",\"Electrical device\",\"Electrical cable\",\"Transformer\",\"Chemical industry\",\"Jet fuel\",\"Paraffin wax\",\"Petrochemical\",\"Synthetic oil\",\"Tar\",\"Commodity chemicals\",\"Industrial gas\",\"Speciality chemicals\",\"Agrochemical\",\"Cleaning agent\",\"Cosmetics\",\"Paint\",\"Ink\",\"Perfume\",\"Production of antibiotics\",\"Blood product\",\"Generic drug\",\"Illegal drug trade\",\"Liming (leather processing)\",\"Deliming\",\"Tanning (leather)\",\"Currier\",\"Oiling (leather processing)\",\"Wood drying\",\"Sawmill\",\"Wood-plastic composite\",\"Pulp and paper industry\",\"Cardboard\",\"Pulp (paper)\",\"Tissue paper\",\"Synthetic rubber\",\"Plastics industry\",\"Commodity plastics\",\"Engineering plastic\",\"High-performance plastics\",\"Pelletizing\",\"Synthetic fiber\",\"Thermosetting polymer\",\"Borosilicate glass\",\"Fused quartz\",\"Soda%e2%80%93lime glass\",\"Glass wool\",\"Safety glass\",\"Ceramic\",\"Earthenware\",\"Mortar (masonry)\",\"Ready-mix concrete\",\"Abrasive\",\"Mineral wool\",\"Ironworks\",\"Aluminium smelting\",\"Copper extraction\",\"Alloy\",\"Heavy industry\",\"Machine industry\",\"Machine tool builder\",\"Turbo generator\",\"Automotive industry\",\"Oil platform\",\"Public utility\",\"Electric power industry\",\"Water industry\",\"Waste management industry\",\"Waste collection\",\"Hazardous waste\",\"Environmental remediation\",\"Telecommunications industry\",\"Cable television\",\"Communications satellite\",\"Telephone company\",\"Commercial property\",\"Industrial architecture\",\"Home construction\",\"Cabinetry\",\"Elevator mechanic\",\"House painter and decorator\",\"Earthworks (engineering)\",\"Fast-moving consumer goods\",\"Department store\",\"Mail order\",\"Specialty store\",\"Broker\",\"Distribution (marketing)\",\"Air cargo\",\"Intermodal freight transport\",\"Mail\",\"Rail freight transport\",\"Car rental\",\"Warehouse\",\"Self storage\",\"Hospitality industry\",\"Drinking establishment\",\"Food delivery\",\"Asset management\",\"Payment card industry\",\"Risk management\",\"Life insurance\",\"Pension fund\",\"Real estate economics\",\"Property management\",\"Professional services\",\"Accounting network\",\"Tax advisor\",\"Architectural firm\",\"Inspection\",\"Surveying\",\"Physical test\",\"System testing\",\"Design\",\"Fashion design\",\"Industrial design\",\"Management\",\"Consulting firm\",\"Advertising industry\",\"Healthcare industry\",\"Residential care\",\"Leisure industry\",\"Online gambling\",\"Amusement arcade\",\"Amusement park\",\"Customer service\",\"Employment agency\",\"Janitor\",\"Landscape maintenance\",\"Dry cleaning\",\"Maid service\",\"Pet industry\",\"Sex industry\",\"Poverty industry\",\"Cruise line\",\"Quaternary sector of the economy\",\"Periodical literature\",\"Radio industry\",\"Social networking service\",\"Primary education\",\"Standardized test\",\"Tutoring\",\"Creative industries\",\"Language industry\",\"Research and development\",\"Industry classification\",\"Factors of production\",\"Output (economics)\",\"Externality\",\"Community\",\"Crime\",\"Well-being\",\"Funding\",\"Commodity\",\"Final good\",\"Intermediate good\",\"Raw material\",\"Work (human activity)\",\"Natural resource\",\"Physical capital\",\"Service (economics)\",\"Cartel\",\"Monopoly\",\"Outsourcing\",\"Putting-out system\",\"Corporate spin-off\",\"Outline of industry\"],\"shape\":[527],\"dtype\":\"object\",\"order\":\"little\"}],[\"x\",{\"type\":\"ndarray\",\"array\":{\"type\":\"bytes\",\"data\":\"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\"},\"shape\":[527],\"dtype\":\"float64\",\"order\":\"little\"}],[\"y\",{\"type\":\"ndarray\",\"array\":{\"type\":\"bytes\",\"data\":\"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\"},\"shape\":[527],\"dtype\":\"float64\",\"order\":\"little\"}]]}}},\"view\":{\"type\":\"object\",\"name\":\"CDSView\",\"id\":\"p1547\",\"attributes\":{\"filter\":{\"type\":\"object\",\"name\":\"AllIndices\",\"id\":\"p1548\"}}},\"glyph\":{\"type\":\"object\",\"name\":\"Circle\",\"id\":\"p1543\",\"attributes\":{\"x\":{\"type\":\"field\",\"field\":\"x\"},\"y\":{\"type\":\"field\",\"field\":\"y\"},\"size\":{\"type\":\"value\",\"value\":10},\"line_color\":{\"type\":\"value\",\"value\":\"#1f77b4\"},\"fill_color\":{\"type\":\"value\",\"value\":\"#1f77b4\"}}},\"nonselection_glyph\":{\"type\":\"object\",\"name\":\"Circle\",\"id\":\"p1544\",\"attributes\":{\"x\":{\"type\":\"field\",\"field\":\"x\"},\"y\":{\"type\":\"field\",\"field\":\"y\"},\"size\":{\"type\":\"value\",\"value\":10},\"line_color\":{\"type\":\"value\",\"value\":\"#1f77b4\"},\"line_alpha\":{\"type\":\"value\",\"value\":0.1},\"fill_color\":{\"type\":\"value\",\"value\":\"#1f77b4\"},\"fill_alpha\":{\"type\":\"value\",\"value\":0.1},\"hatch_alpha\":{\"type\":\"value\",\"value\":0.1}}},\"muted_glyph\":{\"type\":\"object\",\"name\":\"Circle\",\"id\":\"p1545\",\"attributes\":{\"x\":{\"type\":\"field\",\"field\":\"x\"},\"y\":{\"type\":\"field\",\"field\":\"y\"},\"size\":{\"type\":\"value\",\"value\":10},\"line_color\":{\"type\":\"value\",\"value\":\"#1f77b4\"},\"line_alpha\":{\"type\":\"value\",\"value\":0.2},\"fill_color\":{\"type\":\"value\",\"value\":\"#1f77b4\"},\"fill_alpha\":{\"type\":\"value\",\"value\":0.2},\"hatch_alpha\":{\"type\":\"value\",\"value\":0.2}}}}}],\"toolbar\":{\"type\":\"object\",\"name\":\"Toolbar\",\"id\":\"p1506\",\"attributes\":{\"tools\":[{\"type\":\"object\",\"name\":\"HoverTool\",\"id\":\"p1533\",\"attributes\":{\"renderers\":\"auto\",\"tooltips\":[[\"Text\",\"@text\"],[\"X\",\"@x\"],[\"Y\",\"@y\"]]}},{\"type\":\"object\",\"name\":\"BoxZoomTool\",\"id\":\"p1534\",\"attributes\":{\"overlay\":{\"type\":\"object\",\"name\":\"BoxAnnotation\",\"id\":\"p1535\",\"attributes\":{\"syncable\":false,\"level\":\"overlay\",\"visible\":false,\"left_units\":\"canvas\",\"right_units\":\"canvas\",\"bottom_units\":\"canvas\",\"top_units\":\"canvas\",\"line_color\":\"black\",\"line_alpha\":1.0,\"line_width\":2,\"line_dash\":[4,4],\"fill_color\":\"lightgrey\",\"fill_alpha\":0.5}}}}]}},\"left\":[{\"type\":\"object\",\"name\":\"LinearAxis\",\"id\":\"p1526\",\"attributes\":{\"ticker\":{\"type\":\"object\",\"name\":\"BasicTicker\",\"id\":\"p1529\",\"attributes\":{\"mantissas\":[1,2,5]}},\"formatter\":{\"type\":\"object\",\"name\":\"BasicTickFormatter\",\"id\":\"p1527\"},\"major_label_policy\":{\"type\":\"object\",\"name\":\"AllLabels\",\"id\":\"p1528\"}}}],\"below\":[{\"type\":\"object\",\"name\":\"LinearAxis\",\"id\":\"p1519\",\"attributes\":{\"ticker\":{\"type\":\"object\",\"name\":\"BasicTicker\",\"id\":\"p1522\",\"attributes\":{\"mantissas\":[1,2,5]}},\"formatter\":{\"type\":\"object\",\"name\":\"BasicTickFormatter\",\"id\":\"p1520\"},\"major_label_policy\":{\"type\":\"object\",\"name\":\"AllLabels\",\"id\":\"p1521\"}}}],\"center\":[{\"type\":\"object\",\"name\":\"Grid\",\"id\":\"p1525\",\"attributes\":{\"axis\":{\"id\":\"p1519\"}}},{\"type\":\"object\",\"name\":\"Grid\",\"id\":\"p1532\",\"attributes\":{\"dimension\":1,\"axis\":{\"id\":\"p1526\"}}}]}}],\"callbacks\":{\"type\":\"map\"}}};\n",
       "  const render_items = [{\"docid\":\"e6d57812-a25b-4d1c-9cb2-4c2fd21a6b24\",\"roots\":{\"p1502\":\"dcff8b09-47e6-4d17-92d9-898031d52bec\"},\"root_ids\":[\"p1502\"]}];\n",
       "  root.Bokeh.embed.embed_items_notebook(docs_json, render_items);\n",
       "  }\n",
       "  if (root.Bokeh !== undefined) {\n",
       "    embed_document(root);\n",
       "  } else {\n",
       "    let attempts = 0;\n",
       "    const timer = setInterval(function(root) {\n",
       "      if (root.Bokeh !== undefined) {\n",
       "        clearInterval(timer);\n",
       "        embed_document(root);\n",
       "      } else {\n",
       "        attempts++;\n",
       "        if (attempts > 100) {\n",
       "          clearInterval(timer);\n",
       "          console.log(\"Bokeh: ERROR: Unable to run BokehJS code because BokehJS library is missing\");\n",
       "        }\n",
       "      }\n",
       "    }, 10, root)\n",
       "  }\n",
       "})(window);"
      ],
      "application/vnd.bokehjs_exec.v0+json": ""
     },
     "metadata": {
      "application/vnd.bokehjs_exec.v0+json": {
       "id": "p1502"
      }
     },
     "output_type": "display_data"
    }
   ],
   "source": [
    "from bokeh.plotting import figure, show\n",
    "from bokeh.models import HoverTool, ColumnDataSource, WheelZoomTool\n",
    "from bokeh.io import output_notebook\n",
    "\n",
    "# Enable Bokeh to display plots in the JupyterLab notebook\n",
    "output_notebook()\n",
    "\n",
    "# Data\n",
    "data = embeddings_2D\n",
    "\n",
    "# Create a ColumnDataSource from the data dictionary\n",
    "source = ColumnDataSource(data)\n",
    "\n",
    "# Create the figure\n",
    "p = figure(tools='hover, box_zoom', tooltips=[('Text', '@text')])\n",
    "\n",
    "# Plot the points\n",
    "p.circle(x='x', y='y', source=source, size=10)\n",
    "\n",
    "# Add hover tool\n",
    "hover = p.select(dict(type=HoverTool))\n",
    "hover.tooltips = [\n",
    "    ('Text', '@text'),\n",
    "    ('X', '@x'),\n",
    "    ('Y', '@y')\n",
    "]\n",
    "\n",
    "# Show the plot\n",
    "show(p)"
   ]
  },
  {
   "cell_type": "code",
   "execution_count": null,
   "id": "6a49e5ba-cb3b-4431-aebc-3b37f34a0daf",
   "metadata": {},
   "outputs": [],
   "source": []
  }
 ],
 "metadata": {
  "kernelspec": {
   "display_name": "Python 3 (ipykernel)",
   "language": "python",
   "name": "python3"
  },
  "language_info": {
   "codemirror_mode": {
    "name": "ipython",
    "version": 3
   },
   "file_extension": ".py",
   "mimetype": "text/x-python",
   "name": "python",
   "nbconvert_exporter": "python",
   "pygments_lexer": "ipython3",
   "version": "3.9.0"
  },
  "toc-autonumbering": false
 },
 "nbformat": 4,
 "nbformat_minor": 5
}
