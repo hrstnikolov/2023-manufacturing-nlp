{
 "cells": [
  {
   "cell_type": "markdown",
   "id": "b0208e46-c7cc-48d3-89d7-a1fa606b6aaf",
   "metadata": {},
   "source": [
    "# 03 Dimensionality Reduction"
   ]
  },
  {
   "cell_type": "markdown",
   "id": "581f3116-e023-40ac-b5c3-6c6f4c0eca14",
   "metadata": {
    "tags": []
   },
   "source": [
    "## Imports and setup"
   ]
  },
  {
   "cell_type": "code",
   "execution_count": 2,
   "id": "4c9f95b7-9f56-45a2-be2a-37f825192b64",
   "metadata": {},
   "outputs": [],
   "source": [
    "%matplotlib inline"
   ]
  },
  {
   "cell_type": "code",
   "execution_count": 1,
   "id": "309b0ddc-d178-449c-aa60-f5e6bac4cc27",
   "metadata": {},
   "outputs": [],
   "source": [
    "import numpy as np\n",
    "import pandas as pd\n",
    "import matplotlib.pyplot as plt\n",
    "\n",
    "from textwrap import dedent\n",
    "from bs4 import BeautifulSoup\n",
    "import json, pickle, random, re, requests\n",
    "from typing import List, Dict, Any\n",
    "\n",
    "from sklearn.metrics.pairwise import cosine_similarity\n",
    "from umap import UMAP"
   ]
  },
  {
   "cell_type": "code",
   "execution_count": 3,
   "id": "290ac06a-becc-4cc2-ae80-8055082e8111",
   "metadata": {},
   "outputs": [],
   "source": [
    "SEED = 2023\n",
    "random.seed(SEED)"
   ]
  },
  {
   "cell_type": "markdown",
   "id": "f9d9413b-6882-4a0e-bab9-60673cf7c5f9",
   "metadata": {},
   "source": [
    "## Visualize embeddings"
   ]
  },
  {
   "cell_type": "code",
   "execution_count": 102,
   "id": "096d3408-c4e9-4ca1-9026-c56dcce8f16a",
   "metadata": {},
   "outputs": [],
   "source": [
    "my_umap = UMAP(n_components=2)\n",
    "umap_embeddings = my_umap.fit_transform(embeddings)"
   ]
  },
  {
   "cell_type": "code",
   "execution_count": 106,
   "id": "aeba1864-0715-40ea-a574-3ccc5f7fbb60",
   "metadata": {},
   "outputs": [
    {
     "data": {
      "text/html": [
       "<div>\n",
       "<style scoped>\n",
       "    .dataframe tbody tr th:only-of-type {\n",
       "        vertical-align: middle;\n",
       "    }\n",
       "\n",
       "    .dataframe tbody tr th {\n",
       "        vertical-align: top;\n",
       "    }\n",
       "\n",
       "    .dataframe thead th {\n",
       "        text-align: right;\n",
       "    }\n",
       "</style>\n",
       "<table border=\"1\" class=\"dataframe\">\n",
       "  <thead>\n",
       "    <tr style=\"text-align: right;\">\n",
       "      <th></th>\n",
       "      <th>text</th>\n",
       "      <th>x</th>\n",
       "      <th>y</th>\n",
       "    </tr>\n",
       "  </thead>\n",
       "  <tbody>\n",
       "    <tr>\n",
       "      <th>0</th>\n",
       "      <td>Carbon arc welding</td>\n",
       "      <td>8.858342</td>\n",
       "      <td>6.320820</td>\n",
       "    </tr>\n",
       "    <tr>\n",
       "      <th>1</th>\n",
       "      <td>Flux cored arc welding</td>\n",
       "      <td>5.421583</td>\n",
       "      <td>2.265293</td>\n",
       "    </tr>\n",
       "    <tr>\n",
       "      <th>2</th>\n",
       "      <td>Gas metal arc welding</td>\n",
       "      <td>8.949512</td>\n",
       "      <td>6.420838</td>\n",
       "    </tr>\n",
       "    <tr>\n",
       "      <th>3</th>\n",
       "      <td>Shielding gas</td>\n",
       "      <td>8.898228</td>\n",
       "      <td>6.489328</td>\n",
       "    </tr>\n",
       "    <tr>\n",
       "      <th>4</th>\n",
       "      <td>Plasma arc welding</td>\n",
       "      <td>8.949606</td>\n",
       "      <td>6.551714</td>\n",
       "    </tr>\n",
       "  </tbody>\n",
       "</table>\n",
       "</div>"
      ],
      "text/plain": [
       "                     text         x         y\n",
       "0      Carbon arc welding  8.858342  6.320820\n",
       "1  Flux cored arc welding  5.421583  2.265293\n",
       "2   Gas metal arc welding  8.949512  6.420838\n",
       "3           Shielding gas  8.898228  6.489328\n",
       "4      Plasma arc welding  8.949606  6.551714"
      ]
     },
     "execution_count": 106,
     "metadata": {},
     "output_type": "execute_result"
    }
   ],
   "source": [
    "texts = pd.DataFrame({\n",
    "    'text': df_new.title,\n",
    "    'x': umap_embeddings[:, 0],\n",
    "    'y': umap_embeddings[:, 1],\n",
    "})\n",
    "\n",
    "texts.head()"
   ]
  },
  {
   "cell_type": "code",
   "execution_count": 107,
   "id": "b4fec3f0-fbf9-4601-82b5-02381eebb09f",
   "metadata": {},
   "outputs": [],
   "source": [
    "texts.to_csv(\"data/bulk_st.csv\")"
   ]
  }
 ],
 "metadata": {
  "kernelspec": {
   "display_name": "Python 3 (ipykernel)",
   "language": "python",
   "name": "python3"
  },
  "language_info": {
   "codemirror_mode": {
    "name": "ipython",
    "version": 3
   },
   "file_extension": ".py",
   "mimetype": "text/x-python",
   "name": "python",
   "nbconvert_exporter": "python",
   "pygments_lexer": "ipython3",
   "version": "3.10.9"
  }
 },
 "nbformat": 4,
 "nbformat_minor": 5
}
