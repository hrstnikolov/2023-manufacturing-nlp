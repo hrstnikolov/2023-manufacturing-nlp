{
 "cells": [
  {
   "cell_type": "markdown",
   "id": "b0208e46-c7cc-48d3-89d7-a1fa606b6aaf",
   "metadata": {},
   "source": [
    "# 03 Dimensionality Reduction"
   ]
  },
  {
   "cell_type": "markdown",
   "id": "581f3116-e023-40ac-b5c3-6c6f4c0eca14",
   "metadata": {
    "tags": []
   },
   "source": [
    "## Imports and setup"
   ]
  },
  {
   "cell_type": "code",
   "execution_count": 2,
   "id": "4c9f95b7-9f56-45a2-be2a-37f825192b64",
   "metadata": {},
   "outputs": [],
   "source": [
    "%matplotlib inline"
   ]
  },
  {
   "cell_type": "code",
   "execution_count": 5,
   "id": "309b0ddc-d178-449c-aa60-f5e6bac4cc27",
   "metadata": {},
   "outputs": [],
   "source": [
    "import numpy as np\n",
    "import pandas as pd\n",
    "import matplotlib.pyplot as plt\n",
    "\n",
    "import pickle\n",
    "\n",
    "from umap import UMAP"
   ]
  },
  {
   "cell_type": "code",
   "execution_count": 4,
   "id": "290ac06a-becc-4cc2-ae80-8055082e8111",
   "metadata": {},
   "outputs": [],
   "source": [
    "SEED = 2023\n",
    "random.seed(SEED)"
   ]
  },
  {
   "cell_type": "markdown",
   "id": "f9d9413b-6882-4a0e-bab9-60673cf7c5f9",
   "metadata": {},
   "source": [
    "## Load embeddings and data"
   ]
  },
  {
   "cell_type": "code",
   "execution_count": 10,
   "id": "c95b4215-743f-41b6-8f52-042f0a655133",
   "metadata": {},
   "outputs": [
    {
     "data": {
      "text/plain": [
       "(527, 384)"
      ]
     },
     "execution_count": 10,
     "metadata": {},
     "output_type": "execute_result"
    }
   ],
   "source": [
    "with open('data/embeddings.pickle', 'rb') as f:\n",
    "    embeddings = pickle.load(f)\n",
    "    \n",
    "embeddings.shape"
   ]
  },
  {
   "cell_type": "code",
   "execution_count": 14,
   "id": "aec3d563-4542-42b1-a935-cf4b66516707",
   "metadata": {},
   "outputs": [
    {
     "data": {
      "text/plain": [
       "((527, 4), Index(['link', 'source_url', 'title', 'summary'], dtype='object'))"
      ]
     },
     "execution_count": 14,
     "metadata": {},
     "output_type": "execute_result"
    }
   ],
   "source": [
    "df = pd.read_csv('data/manufacturing_articles.csv')\n",
    "df.shape, df.columns"
   ]
  },
  {
   "cell_type": "markdown",
   "id": "b96e203d-0be7-487f-acc7-a34bf9c064e4",
   "metadata": {},
   "source": [
    "## Reduce dimensions"
   ]
  },
  {
   "cell_type": "code",
   "execution_count": 11,
   "id": "096d3408-c4e9-4ca1-9026-c56dcce8f16a",
   "metadata": {},
   "outputs": [],
   "source": [
    "my_umap = UMAP(n_components=2)\n",
    "umap_embeddings = my_umap.fit_transform(embeddings)"
   ]
  },
  {
   "cell_type": "markdown",
   "id": "1e66ecfc-e838-4ee4-bd43-e755797fd38b",
   "metadata": {},
   "source": [
    "## Export data for `bulk`"
   ]
  },
  {
   "cell_type": "code",
   "execution_count": 15,
   "id": "aeba1864-0715-40ea-a574-3ccc5f7fbb60",
   "metadata": {},
   "outputs": [
    {
     "data": {
      "text/html": [
       "<div>\n",
       "<style scoped>\n",
       "    .dataframe tbody tr th:only-of-type {\n",
       "        vertical-align: middle;\n",
       "    }\n",
       "\n",
       "    .dataframe tbody tr th {\n",
       "        vertical-align: top;\n",
       "    }\n",
       "\n",
       "    .dataframe thead th {\n",
       "        text-align: right;\n",
       "    }\n",
       "</style>\n",
       "<table border=\"1\" class=\"dataframe\">\n",
       "  <thead>\n",
       "    <tr style=\"text-align: right;\">\n",
       "      <th></th>\n",
       "      <th>text</th>\n",
       "      <th>x</th>\n",
       "      <th>y</th>\n",
       "    </tr>\n",
       "  </thead>\n",
       "  <tbody>\n",
       "    <tr>\n",
       "      <th>0</th>\n",
       "      <td>Carbon arc welding</td>\n",
       "      <td>13.163682</td>\n",
       "      <td>7.032990</td>\n",
       "    </tr>\n",
       "    <tr>\n",
       "      <th>1</th>\n",
       "      <td>Flux cored arc welding</td>\n",
       "      <td>8.142623</td>\n",
       "      <td>5.245499</td>\n",
       "    </tr>\n",
       "    <tr>\n",
       "      <th>2</th>\n",
       "      <td>Gas metal arc welding</td>\n",
       "      <td>13.002888</td>\n",
       "      <td>7.304709</td>\n",
       "    </tr>\n",
       "    <tr>\n",
       "      <th>3</th>\n",
       "      <td>Shielding gas</td>\n",
       "      <td>13.215129</td>\n",
       "      <td>7.194959</td>\n",
       "    </tr>\n",
       "    <tr>\n",
       "      <th>4</th>\n",
       "      <td>Plasma arc welding</td>\n",
       "      <td>13.140518</td>\n",
       "      <td>7.046011</td>\n",
       "    </tr>\n",
       "  </tbody>\n",
       "</table>\n",
       "</div>"
      ],
      "text/plain": [
       "                     text          x         y\n",
       "0      Carbon arc welding  13.163682  7.032990\n",
       "1  Flux cored arc welding   8.142623  5.245499\n",
       "2   Gas metal arc welding  13.002888  7.304709\n",
       "3           Shielding gas  13.215129  7.194959\n",
       "4      Plasma arc welding  13.140518  7.046011"
      ]
     },
     "execution_count": 15,
     "metadata": {},
     "output_type": "execute_result"
    }
   ],
   "source": [
    "data_for_bulk = pd.DataFrame({\n",
    "    'text': df['title'],\n",
    "    'x': umap_embeddings[:, 0],\n",
    "    'y': umap_embeddings[:, 1],\n",
    "})\n",
    "\n",
    "data_for_bulk.head()"
   ]
  },
  {
   "cell_type": "code",
   "execution_count": 16,
   "id": "b4fec3f0-fbf9-4601-82b5-02381eebb09f",
   "metadata": {},
   "outputs": [],
   "source": [
    "data_for_bulk.to_csv(\"data/bulk_st.csv\")"
   ]
  }
 ],
 "metadata": {
  "kernelspec": {
   "display_name": "Python 3 (ipykernel)",
   "language": "python",
   "name": "python3"
  },
  "language_info": {
   "codemirror_mode": {
    "name": "ipython",
    "version": 3
   },
   "file_extension": ".py",
   "mimetype": "text/x-python",
   "name": "python",
   "nbconvert_exporter": "python",
   "pygments_lexer": "ipython3",
   "version": "3.10.9"
  },
  "toc-autonumbering": false
 },
 "nbformat": 4,
 "nbformat_minor": 5
}
