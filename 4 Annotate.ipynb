{
 "cells": [
  {
   "cell_type": "markdown",
   "id": "df8f7254-8c54-4884-b0d4-fcef6a21190a",
   "metadata": {},
   "source": [
    "# 4 Annotate\n",
    "_Annotation (label assignment) three ways: 1) topic modeling, 2) manual, 3) few-shot learining._"
   ]
  },
  {
   "cell_type": "markdown",
   "id": "5334efd2-e9b7-4fdf-b0be-e557fdeb8954",
   "metadata": {
    "tags": []
   },
   "source": [
    "## Imports and setup"
   ]
  },
  {
   "cell_type": "code",
   "execution_count": 1,
   "id": "4c9f95b7-9f56-45a2-be2a-37f825192b64",
   "metadata": {
    "tags": []
   },
   "outputs": [],
   "source": [
    "%matplotlib inline"
   ]
  },
  {
   "cell_type": "code",
   "execution_count": 4,
   "id": "309b0ddc-d178-449c-aa60-f5e6bac4cc27",
   "metadata": {
    "scrolled": true,
    "tags": []
   },
   "outputs": [],
   "source": [
    "import numpy as np\n",
    "import pandas as pd\n",
    "import matplotlib.pyplot as plt\n",
    "\n",
    "from bertopic import BERTopic\n",
    "from sklearn.feature_extraction.text import CountVectorizer"
   ]
  },
  {
   "cell_type": "code",
   "execution_count": 10,
   "id": "8c279843-fe88-4038-919d-abdfdba7aca1",
   "metadata": {},
   "outputs": [
    {
     "data": {
      "text/html": [
       "<div>\n",
       "<style scoped>\n",
       "    .dataframe tbody tr th:only-of-type {\n",
       "        vertical-align: middle;\n",
       "    }\n",
       "\n",
       "    .dataframe tbody tr th {\n",
       "        vertical-align: top;\n",
       "    }\n",
       "\n",
       "    .dataframe thead th {\n",
       "        text-align: right;\n",
       "    }\n",
       "</style>\n",
       "<table border=\"1\" class=\"dataframe\">\n",
       "  <thead>\n",
       "    <tr style=\"text-align: right;\">\n",
       "      <th></th>\n",
       "      <th>link</th>\n",
       "      <th>source_url</th>\n",
       "      <th>title</th>\n",
       "      <th>summary</th>\n",
       "    </tr>\n",
       "  </thead>\n",
       "  <tbody>\n",
       "    <tr>\n",
       "      <th>0</th>\n",
       "      <td>/wiki/Carbon_Arc_Welding</td>\n",
       "      <td>https://en.wikipedia.org/wiki/List_of_welding_...</td>\n",
       "      <td>Carbon arc welding</td>\n",
       "      <td>Carbon arc welding (CAW) is a process which pr...</td>\n",
       "    </tr>\n",
       "    <tr>\n",
       "      <th>1</th>\n",
       "      <td>/wiki/Flux_Cored_Arc_Welding</td>\n",
       "      <td>https://en.wikipedia.org/wiki/List_of_welding_...</td>\n",
       "      <td>Flux cored arc welding</td>\n",
       "      <td>&lt;!-- \\r\\nNewPP limit report\\r\\nParsed by mw140...</td>\n",
       "    </tr>\n",
       "    <tr>\n",
       "      <th>2</th>\n",
       "      <td>/wiki/Gas_Metal_Arc_Welding</td>\n",
       "      <td>https://en.wikipedia.org/wiki/List_of_welding_...</td>\n",
       "      <td>Gas metal arc welding</td>\n",
       "      <td>Gas metal arc welding (GMAW), sometimes referr...</td>\n",
       "    </tr>\n",
       "    <tr>\n",
       "      <th>3</th>\n",
       "      <td>/wiki/Shielding_gas</td>\n",
       "      <td>https://en.wikipedia.org/wiki/List_of_welding_...</td>\n",
       "      <td>Shielding gas</td>\n",
       "      <td>Shielding gases are inert or semi-inert gases ...</td>\n",
       "    </tr>\n",
       "    <tr>\n",
       "      <th>4</th>\n",
       "      <td>/wiki/Plasma_Arc_Welding</td>\n",
       "      <td>https://en.wikipedia.org/wiki/List_of_welding_...</td>\n",
       "      <td>Plasma arc welding</td>\n",
       "      <td>Plasma arc welding (PAW) is an arc welding pro...</td>\n",
       "    </tr>\n",
       "    <tr>\n",
       "      <th>...</th>\n",
       "      <td>...</td>\n",
       "      <td>...</td>\n",
       "      <td>...</td>\n",
       "      <td>...</td>\n",
       "    </tr>\n",
       "    <tr>\n",
       "      <th>522</th>\n",
       "      <td>/wiki/Monopoly</td>\n",
       "      <td>https://en.wikipedia.org/wiki/Industrial_proce...</td>\n",
       "      <td>Monopoly</td>\n",
       "      <td>A monopoly (from Greek μόνος, mónos, 'single, ...</td>\n",
       "    </tr>\n",
       "    <tr>\n",
       "      <th>523</th>\n",
       "      <td>/wiki/Outsourcing</td>\n",
       "      <td>https://en.wikipedia.org/wiki/Industrial_proce...</td>\n",
       "      <td>Outsourcing</td>\n",
       "      <td>Outsourcing is an agreement in which one compa...</td>\n",
       "    </tr>\n",
       "    <tr>\n",
       "      <th>524</th>\n",
       "      <td>/wiki/Putting-out_system</td>\n",
       "      <td>https://en.wikipedia.org/wiki/Industrial_proce...</td>\n",
       "      <td>Putting-out system</td>\n",
       "      <td>The putting-out system is a means of subcontra...</td>\n",
       "    </tr>\n",
       "    <tr>\n",
       "      <th>525</th>\n",
       "      <td>/wiki/Corporate_spin-off</td>\n",
       "      <td>https://en.wikipedia.org/wiki/Industrial_proce...</td>\n",
       "      <td>Corporate spin-off</td>\n",
       "      <td>A corporate spin-off, also known as a spin-out...</td>\n",
       "    </tr>\n",
       "    <tr>\n",
       "      <th>526</th>\n",
       "      <td>/wiki/Outline_of_industry</td>\n",
       "      <td>https://en.wikipedia.org/wiki/Industrial_proce...</td>\n",
       "      <td>Outline of industry</td>\n",
       "      <td>The following is a list of industries, intende...</td>\n",
       "    </tr>\n",
       "  </tbody>\n",
       "</table>\n",
       "<p>527 rows × 4 columns</p>\n",
       "</div>"
      ],
      "text/plain": [
       "                             link  \\\n",
       "0        /wiki/Carbon_Arc_Welding   \n",
       "1    /wiki/Flux_Cored_Arc_Welding   \n",
       "2     /wiki/Gas_Metal_Arc_Welding   \n",
       "3             /wiki/Shielding_gas   \n",
       "4        /wiki/Plasma_Arc_Welding   \n",
       "..                            ...   \n",
       "522                /wiki/Monopoly   \n",
       "523             /wiki/Outsourcing   \n",
       "524      /wiki/Putting-out_system   \n",
       "525      /wiki/Corporate_spin-off   \n",
       "526     /wiki/Outline_of_industry   \n",
       "\n",
       "                                            source_url  \\\n",
       "0    https://en.wikipedia.org/wiki/List_of_welding_...   \n",
       "1    https://en.wikipedia.org/wiki/List_of_welding_...   \n",
       "2    https://en.wikipedia.org/wiki/List_of_welding_...   \n",
       "3    https://en.wikipedia.org/wiki/List_of_welding_...   \n",
       "4    https://en.wikipedia.org/wiki/List_of_welding_...   \n",
       "..                                                 ...   \n",
       "522  https://en.wikipedia.org/wiki/Industrial_proce...   \n",
       "523  https://en.wikipedia.org/wiki/Industrial_proce...   \n",
       "524  https://en.wikipedia.org/wiki/Industrial_proce...   \n",
       "525  https://en.wikipedia.org/wiki/Industrial_proce...   \n",
       "526  https://en.wikipedia.org/wiki/Industrial_proce...   \n",
       "\n",
       "                      title                                            summary  \n",
       "0        Carbon arc welding  Carbon arc welding (CAW) is a process which pr...  \n",
       "1    Flux cored arc welding  <!-- \\r\\nNewPP limit report\\r\\nParsed by mw140...  \n",
       "2     Gas metal arc welding  Gas metal arc welding (GMAW), sometimes referr...  \n",
       "3             Shielding gas  Shielding gases are inert or semi-inert gases ...  \n",
       "4        Plasma arc welding  Plasma arc welding (PAW) is an arc welding pro...  \n",
       "..                      ...                                                ...  \n",
       "522                Monopoly  A monopoly (from Greek μόνος, mónos, 'single, ...  \n",
       "523             Outsourcing  Outsourcing is an agreement in which one compa...  \n",
       "524      Putting-out system  The putting-out system is a means of subcontra...  \n",
       "525      Corporate spin-off  A corporate spin-off, also known as a spin-out...  \n",
       "526     Outline of industry  The following is a list of industries, intende...  \n",
       "\n",
       "[527 rows x 4 columns]"
      ]
     },
     "execution_count": 10,
     "metadata": {},
     "output_type": "execute_result"
    }
   ],
   "source": [
    "documents = pd.read_csv('data/manufacturing_articles.csv')\n",
    "documents"
   ]
  },
  {
   "cell_type": "code",
   "execution_count": 11,
   "id": "ac3240aa-892e-479d-8789-dea9c0f5ffaa",
   "metadata": {},
   "outputs": [
    {
     "data": {
      "text/html": [
       "<div>\n",
       "<style scoped>\n",
       "    .dataframe tbody tr th:only-of-type {\n",
       "        vertical-align: middle;\n",
       "    }\n",
       "\n",
       "    .dataframe tbody tr th {\n",
       "        vertical-align: top;\n",
       "    }\n",
       "\n",
       "    .dataframe thead th {\n",
       "        text-align: right;\n",
       "    }\n",
       "</style>\n",
       "<table border=\"1\" class=\"dataframe\">\n",
       "  <thead>\n",
       "    <tr style=\"text-align: right;\">\n",
       "      <th></th>\n",
       "      <th>text</th>\n",
       "      <th>x</th>\n",
       "      <th>y</th>\n",
       "    </tr>\n",
       "  </thead>\n",
       "  <tbody>\n",
       "    <tr>\n",
       "      <th>0</th>\n",
       "      <td>Carbon arc welding</td>\n",
       "      <td>8.810158</td>\n",
       "      <td>9.205739</td>\n",
       "    </tr>\n",
       "    <tr>\n",
       "      <th>1</th>\n",
       "      <td>Flux cored arc welding</td>\n",
       "      <td>6.887566</td>\n",
       "      <td>5.127184</td>\n",
       "    </tr>\n",
       "    <tr>\n",
       "      <th>2</th>\n",
       "      <td>Gas metal arc welding</td>\n",
       "      <td>8.940374</td>\n",
       "      <td>9.374857</td>\n",
       "    </tr>\n",
       "    <tr>\n",
       "      <th>3</th>\n",
       "      <td>Shielding gas</td>\n",
       "      <td>8.983820</td>\n",
       "      <td>9.291036</td>\n",
       "    </tr>\n",
       "    <tr>\n",
       "      <th>4</th>\n",
       "      <td>Plasma arc welding</td>\n",
       "      <td>9.013934</td>\n",
       "      <td>9.136670</td>\n",
       "    </tr>\n",
       "    <tr>\n",
       "      <th>...</th>\n",
       "      <td>...</td>\n",
       "      <td>...</td>\n",
       "      <td>...</td>\n",
       "    </tr>\n",
       "    <tr>\n",
       "      <th>522</th>\n",
       "      <td>Monopoly</td>\n",
       "      <td>3.002634</td>\n",
       "      <td>5.068614</td>\n",
       "    </tr>\n",
       "    <tr>\n",
       "      <th>523</th>\n",
       "      <td>Outsourcing</td>\n",
       "      <td>3.018036</td>\n",
       "      <td>4.839603</td>\n",
       "    </tr>\n",
       "    <tr>\n",
       "      <th>524</th>\n",
       "      <td>Putting-out system</td>\n",
       "      <td>4.128756</td>\n",
       "      <td>5.713327</td>\n",
       "    </tr>\n",
       "    <tr>\n",
       "      <th>525</th>\n",
       "      <td>Corporate spin-off</td>\n",
       "      <td>3.062369</td>\n",
       "      <td>4.950755</td>\n",
       "    </tr>\n",
       "    <tr>\n",
       "      <th>526</th>\n",
       "      <td>Outline of industry</td>\n",
       "      <td>3.090796</td>\n",
       "      <td>3.932769</td>\n",
       "    </tr>\n",
       "  </tbody>\n",
       "</table>\n",
       "<p>527 rows × 3 columns</p>\n",
       "</div>"
      ],
      "text/plain": [
       "                       text         x         y\n",
       "0        Carbon arc welding  8.810158  9.205739\n",
       "1    Flux cored arc welding  6.887566  5.127184\n",
       "2     Gas metal arc welding  8.940374  9.374857\n",
       "3             Shielding gas  8.983820  9.291036\n",
       "4        Plasma arc welding  9.013934  9.136670\n",
       "..                      ...       ...       ...\n",
       "522                Monopoly  3.002634  5.068614\n",
       "523             Outsourcing  3.018036  4.839603\n",
       "524      Putting-out system  4.128756  5.713327\n",
       "525      Corporate spin-off  3.062369  4.950755\n",
       "526     Outline of industry  3.090796  3.932769\n",
       "\n",
       "[527 rows x 3 columns]"
      ]
     },
     "execution_count": 11,
     "metadata": {},
     "output_type": "execute_result"
    }
   ],
   "source": [
    "embeddings = pd.read_csv('embeddings/umap_2d.csv')\n",
    "embeddings"
   ]
  },
  {
   "cell_type": "code",
   "execution_count": 14,
   "id": "af103179-b258-4c41-8e7b-0b30aa7b43ed",
   "metadata": {},
   "outputs": [
    {
     "data": {
      "text/plain": [
       "array([[8.810158 , 9.205739 ],\n",
       "       [6.887566 , 5.1271844],\n",
       "       [8.940374 , 9.374857 ],\n",
       "       ...,\n",
       "       [4.1287565, 5.713327 ],\n",
       "       [3.0623689, 4.9507546],\n",
       "       [3.090796 , 3.9327686]])"
      ]
     },
     "execution_count": 14,
     "metadata": {},
     "output_type": "execute_result"
    }
   ],
   "source": [
    "embeddings[['x', 'y']].to_numpy()"
   ]
  },
  {
   "cell_type": "code",
   "execution_count": 5,
   "id": "48028c0b-5827-4aad-8b63-d51c7e4282c0",
   "metadata": {},
   "outputs": [],
   "source": [
    "vectorizer_model = CountVectorizer(stop_words='english')\n",
    "topic_model = BERTopic(vectorizer_model=vectorizer_model)"
   ]
  },
  {
   "cell_type": "code",
   "execution_count": 15,
   "id": "f5626b35-5d2b-40ae-8e2c-84d62683466c",
   "metadata": {},
   "outputs": [
    {
     "ename": "TypeError",
     "evalue": "'numpy.float64' object cannot be interpreted as an integer",
     "output_type": "error",
     "traceback": [
      "\u001b[1;31m---------------------------------------------------------------------------\u001b[0m",
      "\u001b[1;31mTypeError\u001b[0m                                 Traceback (most recent call last)",
      "File \u001b[1;32m~\\anaconda3\\envs\\2023-manufacturing-nlp\\lib\\site-packages\\bertopic\\_bertopic.py:3218\u001b[0m, in \u001b[0;36mBERTopic._cluster_embeddings\u001b[1;34m(self, umap_embeddings, documents, partial_fit, y)\u001b[0m\n\u001b[0;32m   3217\u001b[0m \u001b[38;5;28;01mtry\u001b[39;00m:\n\u001b[1;32m-> 3218\u001b[0m     \u001b[38;5;28;43mself\u001b[39;49m\u001b[38;5;241;43m.\u001b[39;49m\u001b[43mhdbscan_model\u001b[49m\u001b[38;5;241;43m.\u001b[39;49m\u001b[43mfit\u001b[49m\u001b[43m(\u001b[49m\u001b[43mumap_embeddings\u001b[49m\u001b[43m,\u001b[49m\u001b[43m \u001b[49m\u001b[43my\u001b[49m\u001b[38;5;241;43m=\u001b[39;49m\u001b[43my\u001b[49m\u001b[43m)\u001b[49m\n\u001b[0;32m   3219\u001b[0m \u001b[38;5;28;01mexcept\u001b[39;00m \u001b[38;5;167;01mTypeError\u001b[39;00m:\n",
      "File \u001b[1;32m~\\anaconda3\\envs\\2023-manufacturing-nlp\\lib\\site-packages\\hdbscan\\hdbscan_.py:1205\u001b[0m, in \u001b[0;36mHDBSCAN.fit\u001b[1;34m(self, X, y)\u001b[0m\n\u001b[0;32m   1196\u001b[0m kwargs\u001b[38;5;241m.\u001b[39mupdate(\u001b[38;5;28mself\u001b[39m\u001b[38;5;241m.\u001b[39m_metric_kwargs)\n\u001b[0;32m   1198\u001b[0m (\n\u001b[0;32m   1199\u001b[0m     \u001b[38;5;28mself\u001b[39m\u001b[38;5;241m.\u001b[39mlabels_,\n\u001b[0;32m   1200\u001b[0m     \u001b[38;5;28mself\u001b[39m\u001b[38;5;241m.\u001b[39mprobabilities_,\n\u001b[0;32m   1201\u001b[0m     \u001b[38;5;28mself\u001b[39m\u001b[38;5;241m.\u001b[39mcluster_persistence_,\n\u001b[0;32m   1202\u001b[0m     \u001b[38;5;28mself\u001b[39m\u001b[38;5;241m.\u001b[39m_condensed_tree,\n\u001b[0;32m   1203\u001b[0m     \u001b[38;5;28mself\u001b[39m\u001b[38;5;241m.\u001b[39m_single_linkage_tree,\n\u001b[0;32m   1204\u001b[0m     \u001b[38;5;28mself\u001b[39m\u001b[38;5;241m.\u001b[39m_min_spanning_tree,\n\u001b[1;32m-> 1205\u001b[0m ) \u001b[38;5;241m=\u001b[39m hdbscan(clean_data, \u001b[38;5;241m*\u001b[39m\u001b[38;5;241m*\u001b[39mkwargs)\n\u001b[0;32m   1207\u001b[0m \u001b[38;5;28;01mif\u001b[39;00m \u001b[38;5;28mself\u001b[39m\u001b[38;5;241m.\u001b[39mmetric \u001b[38;5;241m!=\u001b[39m \u001b[38;5;124m\"\u001b[39m\u001b[38;5;124mprecomputed\u001b[39m\u001b[38;5;124m\"\u001b[39m \u001b[38;5;129;01mand\u001b[39;00m \u001b[38;5;129;01mnot\u001b[39;00m \u001b[38;5;28mself\u001b[39m\u001b[38;5;241m.\u001b[39m_all_finite:\n\u001b[0;32m   1208\u001b[0m     \u001b[38;5;66;03m# remap indices to align with original data in the case of non-finite entries.\u001b[39;00m\n",
      "File \u001b[1;32m~\\anaconda3\\envs\\2023-manufacturing-nlp\\lib\\site-packages\\hdbscan\\hdbscan_.py:884\u001b[0m, in \u001b[0;36mhdbscan\u001b[1;34m(X, min_cluster_size, min_samples, alpha, cluster_selection_epsilon, max_cluster_size, metric, p, leaf_size, algorithm, memory, approx_min_span_tree, gen_min_span_tree, core_dist_n_jobs, cluster_selection_method, allow_single_cluster, match_reference_implementation, **kwargs)\u001b[0m\n\u001b[0;32m    868\u001b[0m             (single_linkage_tree, result_min_span_tree) \u001b[38;5;241m=\u001b[39m memory\u001b[38;5;241m.\u001b[39mcache(\n\u001b[0;32m    869\u001b[0m                 _hdbscan_boruvka_balltree\n\u001b[0;32m    870\u001b[0m             )(\n\u001b[1;32m   (...)\u001b[0m\n\u001b[0;32m    880\u001b[0m                 \u001b[38;5;241m*\u001b[39m\u001b[38;5;241m*\u001b[39mkwargs\n\u001b[0;32m    881\u001b[0m             )\n\u001b[0;32m    883\u001b[0m \u001b[38;5;28;01mreturn\u001b[39;00m (\n\u001b[1;32m--> 884\u001b[0m     \u001b[43m_tree_to_labels\u001b[49m\u001b[43m(\u001b[49m\n\u001b[0;32m    885\u001b[0m \u001b[43m        \u001b[49m\u001b[43mX\u001b[49m\u001b[43m,\u001b[49m\n\u001b[0;32m    886\u001b[0m \u001b[43m        \u001b[49m\u001b[43msingle_linkage_tree\u001b[49m\u001b[43m,\u001b[49m\n\u001b[0;32m    887\u001b[0m \u001b[43m        \u001b[49m\u001b[43mmin_cluster_size\u001b[49m\u001b[43m,\u001b[49m\n\u001b[0;32m    888\u001b[0m \u001b[43m        \u001b[49m\u001b[43mcluster_selection_method\u001b[49m\u001b[43m,\u001b[49m\n\u001b[0;32m    889\u001b[0m \u001b[43m        \u001b[49m\u001b[43mallow_single_cluster\u001b[49m\u001b[43m,\u001b[49m\n\u001b[0;32m    890\u001b[0m \u001b[43m        \u001b[49m\u001b[43mmatch_reference_implementation\u001b[49m\u001b[43m,\u001b[49m\n\u001b[0;32m    891\u001b[0m \u001b[43m        \u001b[49m\u001b[43mcluster_selection_epsilon\u001b[49m\u001b[43m,\u001b[49m\n\u001b[0;32m    892\u001b[0m \u001b[43m        \u001b[49m\u001b[43mmax_cluster_size\u001b[49m\u001b[43m,\u001b[49m\n\u001b[0;32m    893\u001b[0m \u001b[43m    \u001b[49m\u001b[43m)\u001b[49m\n\u001b[0;32m    894\u001b[0m     \u001b[38;5;241m+\u001b[39m (result_min_span_tree,)\n\u001b[0;32m    895\u001b[0m )\n",
      "File \u001b[1;32m~\\anaconda3\\envs\\2023-manufacturing-nlp\\lib\\site-packages\\hdbscan\\hdbscan_.py:80\u001b[0m, in \u001b[0;36m_tree_to_labels\u001b[1;34m(X, single_linkage_tree, min_cluster_size, cluster_selection_method, allow_single_cluster, match_reference_implementation, cluster_selection_epsilon, max_cluster_size)\u001b[0m\n\u001b[0;32m     79\u001b[0m stability_dict \u001b[38;5;241m=\u001b[39m compute_stability(condensed_tree)\n\u001b[1;32m---> 80\u001b[0m labels, probabilities, stabilities \u001b[38;5;241m=\u001b[39m \u001b[43mget_clusters\u001b[49m\u001b[43m(\u001b[49m\n\u001b[0;32m     81\u001b[0m \u001b[43m    \u001b[49m\u001b[43mcondensed_tree\u001b[49m\u001b[43m,\u001b[49m\n\u001b[0;32m     82\u001b[0m \u001b[43m    \u001b[49m\u001b[43mstability_dict\u001b[49m\u001b[43m,\u001b[49m\n\u001b[0;32m     83\u001b[0m \u001b[43m    \u001b[49m\u001b[43mcluster_selection_method\u001b[49m\u001b[43m,\u001b[49m\n\u001b[0;32m     84\u001b[0m \u001b[43m    \u001b[49m\u001b[43mallow_single_cluster\u001b[49m\u001b[43m,\u001b[49m\n\u001b[0;32m     85\u001b[0m \u001b[43m    \u001b[49m\u001b[43mmatch_reference_implementation\u001b[49m\u001b[43m,\u001b[49m\n\u001b[0;32m     86\u001b[0m \u001b[43m    \u001b[49m\u001b[43mcluster_selection_epsilon\u001b[49m\u001b[43m,\u001b[49m\n\u001b[0;32m     87\u001b[0m \u001b[43m    \u001b[49m\u001b[43mmax_cluster_size\u001b[49m\u001b[43m,\u001b[49m\n\u001b[0;32m     88\u001b[0m \u001b[43m\u001b[49m\u001b[43m)\u001b[49m\n\u001b[0;32m     90\u001b[0m \u001b[38;5;28;01mreturn\u001b[39;00m (labels, probabilities, stabilities, condensed_tree, single_linkage_tree)\n",
      "File \u001b[1;32mhdbscan\\\\_hdbscan_tree.pyx:659\u001b[0m, in \u001b[0;36mhdbscan._hdbscan_tree.get_clusters\u001b[1;34m()\u001b[0m\n",
      "File \u001b[1;32mhdbscan\\\\_hdbscan_tree.pyx:733\u001b[0m, in \u001b[0;36mhdbscan._hdbscan_tree.get_clusters\u001b[1;34m()\u001b[0m\n",
      "\u001b[1;31mTypeError\u001b[0m: 'numpy.float64' object cannot be interpreted as an integer",
      "\nDuring handling of the above exception, another exception occurred:\n",
      "\u001b[1;31mTypeError\u001b[0m                                 Traceback (most recent call last)",
      "Cell \u001b[1;32mIn[15], line 1\u001b[0m\n\u001b[1;32m----> 1\u001b[0m topics, probs \u001b[38;5;241m=\u001b[39m \u001b[43mtopic_model\u001b[49m\u001b[38;5;241;43m.\u001b[39;49m\u001b[43mfit_transform\u001b[49m\u001b[43m(\u001b[49m\n\u001b[0;32m      2\u001b[0m \u001b[43m    \u001b[49m\u001b[43mdocuments\u001b[49m\u001b[43m[\u001b[49m\u001b[38;5;124;43m'\u001b[39;49m\u001b[38;5;124;43msummary\u001b[39;49m\u001b[38;5;124;43m'\u001b[39;49m\u001b[43m]\u001b[49m\u001b[43m,\u001b[49m\n\u001b[0;32m      3\u001b[0m \u001b[43m    \u001b[49m\u001b[43membeddings\u001b[49m\u001b[43m[\u001b[49m\u001b[43m[\u001b[49m\u001b[38;5;124;43m'\u001b[39;49m\u001b[38;5;124;43mx\u001b[39;49m\u001b[38;5;124;43m'\u001b[39;49m\u001b[43m,\u001b[49m\u001b[43m \u001b[49m\u001b[38;5;124;43m'\u001b[39;49m\u001b[38;5;124;43my\u001b[39;49m\u001b[38;5;124;43m'\u001b[39;49m\u001b[43m]\u001b[49m\u001b[43m]\u001b[49m\u001b[38;5;241;43m.\u001b[39;49m\u001b[43mto_numpy\u001b[49m\u001b[43m(\u001b[49m\u001b[43m)\u001b[49m\n\u001b[0;32m      4\u001b[0m \u001b[43m)\u001b[49m\n",
      "File \u001b[1;32m~\\anaconda3\\envs\\2023-manufacturing-nlp\\lib\\site-packages\\bertopic\\_bertopic.py:389\u001b[0m, in \u001b[0;36mBERTopic.fit_transform\u001b[1;34m(self, documents, embeddings, images, y)\u001b[0m\n\u001b[0;32m    386\u001b[0m umap_embeddings \u001b[38;5;241m=\u001b[39m \u001b[38;5;28mself\u001b[39m\u001b[38;5;241m.\u001b[39m_reduce_dimensionality(embeddings, y)\n\u001b[0;32m    388\u001b[0m \u001b[38;5;66;03m# Cluster reduced embeddings\u001b[39;00m\n\u001b[1;32m--> 389\u001b[0m documents, probabilities \u001b[38;5;241m=\u001b[39m \u001b[38;5;28;43mself\u001b[39;49m\u001b[38;5;241;43m.\u001b[39;49m\u001b[43m_cluster_embeddings\u001b[49m\u001b[43m(\u001b[49m\u001b[43mumap_embeddings\u001b[49m\u001b[43m,\u001b[49m\u001b[43m \u001b[49m\u001b[43mdocuments\u001b[49m\u001b[43m,\u001b[49m\u001b[43m \u001b[49m\u001b[43my\u001b[49m\u001b[38;5;241;43m=\u001b[39;49m\u001b[43my\u001b[49m\u001b[43m)\u001b[49m\n\u001b[0;32m    391\u001b[0m \u001b[38;5;66;03m# Sort and Map Topic IDs by their frequency\u001b[39;00m\n\u001b[0;32m    392\u001b[0m \u001b[38;5;28;01mif\u001b[39;00m \u001b[38;5;129;01mnot\u001b[39;00m \u001b[38;5;28mself\u001b[39m\u001b[38;5;241m.\u001b[39mnr_topics:\n",
      "File \u001b[1;32m~\\anaconda3\\envs\\2023-manufacturing-nlp\\lib\\site-packages\\bertopic\\_bertopic.py:3220\u001b[0m, in \u001b[0;36mBERTopic._cluster_embeddings\u001b[1;34m(self, umap_embeddings, documents, partial_fit, y)\u001b[0m\n\u001b[0;32m   3218\u001b[0m     \u001b[38;5;28mself\u001b[39m\u001b[38;5;241m.\u001b[39mhdbscan_model\u001b[38;5;241m.\u001b[39mfit(umap_embeddings, y\u001b[38;5;241m=\u001b[39my)\n\u001b[0;32m   3219\u001b[0m \u001b[38;5;28;01mexcept\u001b[39;00m \u001b[38;5;167;01mTypeError\u001b[39;00m:\n\u001b[1;32m-> 3220\u001b[0m     \u001b[38;5;28;43mself\u001b[39;49m\u001b[38;5;241;43m.\u001b[39;49m\u001b[43mhdbscan_model\u001b[49m\u001b[38;5;241;43m.\u001b[39;49m\u001b[43mfit\u001b[49m\u001b[43m(\u001b[49m\u001b[43mumap_embeddings\u001b[49m\u001b[43m)\u001b[49m\n\u001b[0;32m   3222\u001b[0m \u001b[38;5;28;01mtry\u001b[39;00m:\n\u001b[0;32m   3223\u001b[0m     labels \u001b[38;5;241m=\u001b[39m \u001b[38;5;28mself\u001b[39m\u001b[38;5;241m.\u001b[39mhdbscan_model\u001b[38;5;241m.\u001b[39mlabels_\n",
      "File \u001b[1;32m~\\anaconda3\\envs\\2023-manufacturing-nlp\\lib\\site-packages\\hdbscan\\hdbscan_.py:1205\u001b[0m, in \u001b[0;36mHDBSCAN.fit\u001b[1;34m(self, X, y)\u001b[0m\n\u001b[0;32m   1195\u001b[0m kwargs\u001b[38;5;241m.\u001b[39mpop(\u001b[38;5;124m\"\u001b[39m\u001b[38;5;124mprediction_data\u001b[39m\u001b[38;5;124m\"\u001b[39m, \u001b[38;5;28;01mNone\u001b[39;00m)\n\u001b[0;32m   1196\u001b[0m kwargs\u001b[38;5;241m.\u001b[39mupdate(\u001b[38;5;28mself\u001b[39m\u001b[38;5;241m.\u001b[39m_metric_kwargs)\n\u001b[0;32m   1198\u001b[0m (\n\u001b[0;32m   1199\u001b[0m     \u001b[38;5;28mself\u001b[39m\u001b[38;5;241m.\u001b[39mlabels_,\n\u001b[0;32m   1200\u001b[0m     \u001b[38;5;28mself\u001b[39m\u001b[38;5;241m.\u001b[39mprobabilities_,\n\u001b[0;32m   1201\u001b[0m     \u001b[38;5;28mself\u001b[39m\u001b[38;5;241m.\u001b[39mcluster_persistence_,\n\u001b[0;32m   1202\u001b[0m     \u001b[38;5;28mself\u001b[39m\u001b[38;5;241m.\u001b[39m_condensed_tree,\n\u001b[0;32m   1203\u001b[0m     \u001b[38;5;28mself\u001b[39m\u001b[38;5;241m.\u001b[39m_single_linkage_tree,\n\u001b[0;32m   1204\u001b[0m     \u001b[38;5;28mself\u001b[39m\u001b[38;5;241m.\u001b[39m_min_spanning_tree,\n\u001b[1;32m-> 1205\u001b[0m ) \u001b[38;5;241m=\u001b[39m hdbscan(clean_data, \u001b[38;5;241m*\u001b[39m\u001b[38;5;241m*\u001b[39mkwargs)\n\u001b[0;32m   1207\u001b[0m \u001b[38;5;28;01mif\u001b[39;00m \u001b[38;5;28mself\u001b[39m\u001b[38;5;241m.\u001b[39mmetric \u001b[38;5;241m!=\u001b[39m \u001b[38;5;124m\"\u001b[39m\u001b[38;5;124mprecomputed\u001b[39m\u001b[38;5;124m\"\u001b[39m \u001b[38;5;129;01mand\u001b[39;00m \u001b[38;5;129;01mnot\u001b[39;00m \u001b[38;5;28mself\u001b[39m\u001b[38;5;241m.\u001b[39m_all_finite:\n\u001b[0;32m   1208\u001b[0m     \u001b[38;5;66;03m# remap indices to align with original data in the case of non-finite entries.\u001b[39;00m\n\u001b[0;32m   1209\u001b[0m     \u001b[38;5;28mself\u001b[39m\u001b[38;5;241m.\u001b[39m_condensed_tree \u001b[38;5;241m=\u001b[39m remap_condensed_tree(\n\u001b[0;32m   1210\u001b[0m         \u001b[38;5;28mself\u001b[39m\u001b[38;5;241m.\u001b[39m_condensed_tree, internal_to_raw, outliers\n\u001b[0;32m   1211\u001b[0m     )\n",
      "File \u001b[1;32m~\\anaconda3\\envs\\2023-manufacturing-nlp\\lib\\site-packages\\hdbscan\\hdbscan_.py:884\u001b[0m, in \u001b[0;36mhdbscan\u001b[1;34m(X, min_cluster_size, min_samples, alpha, cluster_selection_epsilon, max_cluster_size, metric, p, leaf_size, algorithm, memory, approx_min_span_tree, gen_min_span_tree, core_dist_n_jobs, cluster_selection_method, allow_single_cluster, match_reference_implementation, **kwargs)\u001b[0m\n\u001b[0;32m    867\u001b[0m         \u001b[38;5;28;01melse\u001b[39;00m:\n\u001b[0;32m    868\u001b[0m             (single_linkage_tree, result_min_span_tree) \u001b[38;5;241m=\u001b[39m memory\u001b[38;5;241m.\u001b[39mcache(\n\u001b[0;32m    869\u001b[0m                 _hdbscan_boruvka_balltree\n\u001b[0;32m    870\u001b[0m             )(\n\u001b[1;32m   (...)\u001b[0m\n\u001b[0;32m    880\u001b[0m                 \u001b[38;5;241m*\u001b[39m\u001b[38;5;241m*\u001b[39mkwargs\n\u001b[0;32m    881\u001b[0m             )\n\u001b[0;32m    883\u001b[0m \u001b[38;5;28;01mreturn\u001b[39;00m (\n\u001b[1;32m--> 884\u001b[0m     \u001b[43m_tree_to_labels\u001b[49m\u001b[43m(\u001b[49m\n\u001b[0;32m    885\u001b[0m \u001b[43m        \u001b[49m\u001b[43mX\u001b[49m\u001b[43m,\u001b[49m\n\u001b[0;32m    886\u001b[0m \u001b[43m        \u001b[49m\u001b[43msingle_linkage_tree\u001b[49m\u001b[43m,\u001b[49m\n\u001b[0;32m    887\u001b[0m \u001b[43m        \u001b[49m\u001b[43mmin_cluster_size\u001b[49m\u001b[43m,\u001b[49m\n\u001b[0;32m    888\u001b[0m \u001b[43m        \u001b[49m\u001b[43mcluster_selection_method\u001b[49m\u001b[43m,\u001b[49m\n\u001b[0;32m    889\u001b[0m \u001b[43m        \u001b[49m\u001b[43mallow_single_cluster\u001b[49m\u001b[43m,\u001b[49m\n\u001b[0;32m    890\u001b[0m \u001b[43m        \u001b[49m\u001b[43mmatch_reference_implementation\u001b[49m\u001b[43m,\u001b[49m\n\u001b[0;32m    891\u001b[0m \u001b[43m        \u001b[49m\u001b[43mcluster_selection_epsilon\u001b[49m\u001b[43m,\u001b[49m\n\u001b[0;32m    892\u001b[0m \u001b[43m        \u001b[49m\u001b[43mmax_cluster_size\u001b[49m\u001b[43m,\u001b[49m\n\u001b[0;32m    893\u001b[0m \u001b[43m    \u001b[49m\u001b[43m)\u001b[49m\n\u001b[0;32m    894\u001b[0m     \u001b[38;5;241m+\u001b[39m (result_min_span_tree,)\n\u001b[0;32m    895\u001b[0m )\n",
      "File \u001b[1;32m~\\anaconda3\\envs\\2023-manufacturing-nlp\\lib\\site-packages\\hdbscan\\hdbscan_.py:80\u001b[0m, in \u001b[0;36m_tree_to_labels\u001b[1;34m(X, single_linkage_tree, min_cluster_size, cluster_selection_method, allow_single_cluster, match_reference_implementation, cluster_selection_epsilon, max_cluster_size)\u001b[0m\n\u001b[0;32m     78\u001b[0m condensed_tree \u001b[38;5;241m=\u001b[39m condense_tree(single_linkage_tree, min_cluster_size)\n\u001b[0;32m     79\u001b[0m stability_dict \u001b[38;5;241m=\u001b[39m compute_stability(condensed_tree)\n\u001b[1;32m---> 80\u001b[0m labels, probabilities, stabilities \u001b[38;5;241m=\u001b[39m \u001b[43mget_clusters\u001b[49m\u001b[43m(\u001b[49m\n\u001b[0;32m     81\u001b[0m \u001b[43m    \u001b[49m\u001b[43mcondensed_tree\u001b[49m\u001b[43m,\u001b[49m\n\u001b[0;32m     82\u001b[0m \u001b[43m    \u001b[49m\u001b[43mstability_dict\u001b[49m\u001b[43m,\u001b[49m\n\u001b[0;32m     83\u001b[0m \u001b[43m    \u001b[49m\u001b[43mcluster_selection_method\u001b[49m\u001b[43m,\u001b[49m\n\u001b[0;32m     84\u001b[0m \u001b[43m    \u001b[49m\u001b[43mallow_single_cluster\u001b[49m\u001b[43m,\u001b[49m\n\u001b[0;32m     85\u001b[0m \u001b[43m    \u001b[49m\u001b[43mmatch_reference_implementation\u001b[49m\u001b[43m,\u001b[49m\n\u001b[0;32m     86\u001b[0m \u001b[43m    \u001b[49m\u001b[43mcluster_selection_epsilon\u001b[49m\u001b[43m,\u001b[49m\n\u001b[0;32m     87\u001b[0m \u001b[43m    \u001b[49m\u001b[43mmax_cluster_size\u001b[49m\u001b[43m,\u001b[49m\n\u001b[0;32m     88\u001b[0m \u001b[43m\u001b[49m\u001b[43m)\u001b[49m\n\u001b[0;32m     90\u001b[0m \u001b[38;5;28;01mreturn\u001b[39;00m (labels, probabilities, stabilities, condensed_tree, single_linkage_tree)\n",
      "File \u001b[1;32mhdbscan\\\\_hdbscan_tree.pyx:659\u001b[0m, in \u001b[0;36mhdbscan._hdbscan_tree.get_clusters\u001b[1;34m()\u001b[0m\n",
      "File \u001b[1;32mhdbscan\\\\_hdbscan_tree.pyx:733\u001b[0m, in \u001b[0;36mhdbscan._hdbscan_tree.get_clusters\u001b[1;34m()\u001b[0m\n",
      "\u001b[1;31mTypeError\u001b[0m: 'numpy.float64' object cannot be interpreted as an integer"
     ]
    }
   ],
   "source": [
    "topics, probs = topic_model.fit_transform(\n",
    "    documents['summary'],\n",
    "    embeddings[['x', 'y']].to_numpy()\n",
    ")"
   ]
  },
  {
   "cell_type": "code",
   "execution_count": null,
   "id": "1ece70e4-00ca-4f0e-95e5-ee45e6de4d14",
   "metadata": {},
   "outputs": [],
   "source": []
  },
  {
   "cell_type": "code",
   "execution_count": null,
   "id": "51f81428-a1a6-4e29-8273-320958c1ac21",
   "metadata": {},
   "outputs": [],
   "source": []
  },
  {
   "cell_type": "code",
   "execution_count": null,
   "id": "a4e8eccb-e6e7-4ea9-af54-29b450d59513",
   "metadata": {},
   "outputs": [],
   "source": []
  }
 ],
 "metadata": {
  "kernelspec": {
   "display_name": "Python 3 (ipykernel)",
   "language": "python",
   "name": "python3"
  },
  "language_info": {
   "codemirror_mode": {
    "name": "ipython",
    "version": 3
   },
   "file_extension": ".py",
   "mimetype": "text/x-python",
   "name": "python",
   "nbconvert_exporter": "python",
   "pygments_lexer": "ipython3",
   "version": "3.9.0"
  }
 },
 "nbformat": 4,
 "nbformat_minor": 5
}
