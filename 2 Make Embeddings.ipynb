{
 "cells": [
  {
   "cell_type": "markdown",
   "id": "f8a974a9-1c8b-4bf6-b5db-9c5f13f8cf1a",
   "metadata": {
    "tags": []
   },
   "source": [
    "# 02 Make Embeddings"
   ]
  },
  {
   "cell_type": "markdown",
   "id": "c2c684b3-cd5e-4d91-a373-997ad7cc501a",
   "metadata": {
    "tags": []
   },
   "source": [
    "## Imports and setup"
   ]
  },
  {
   "cell_type": "code",
   "execution_count": 1,
   "id": "68fe9101-52bc-4f8f-b07e-c93dc99f5070",
   "metadata": {},
   "outputs": [],
   "source": [
    "%matplotlib inline"
   ]
  },
  {
   "cell_type": "code",
   "execution_count": 47,
   "id": "0b5cfbda-5918-4833-bb1c-956f775843e0",
   "metadata": {},
   "outputs": [],
   "source": [
    "import numpy as np\n",
    "import pandas as pd\n",
    "import matplotlib.pyplot as plt\n",
    "\n",
    "import pickle, textwrap, random, os\n",
    "\n",
    "from sentence_transformers import SentenceTransformer, util\n",
    "\n",
    "from sklearn.feature_extraction.text import TfidfVectorizer\n",
    "from sklearn.metrics.pairwise import cosine_similarity\n",
    "import nltk"
   ]
  },
  {
   "cell_type": "code",
   "execution_count": 8,
   "id": "e0b168e7-29de-48db-8ef9-173a4440fa36",
   "metadata": {},
   "outputs": [],
   "source": [
    "pd.options.display.max_colwidth = 400"
   ]
  },
  {
   "cell_type": "code",
   "execution_count": 9,
   "id": "99d6432e-0bba-427c-bd5d-756af6618199",
   "metadata": {},
   "outputs": [
    {
     "name": "stderr",
     "output_type": "stream",
     "text": [
      "[nltk_data] Downloading package stopwords to\n",
      "[nltk_data]     C:\\Users\\hrist\\AppData\\Roaming\\nltk_data...\n",
      "[nltk_data]   Package stopwords is already up-to-date!\n"
     ]
    },
    {
     "data": {
      "text/plain": [
       "True"
      ]
     },
     "execution_count": 9,
     "metadata": {},
     "output_type": "execute_result"
    }
   ],
   "source": [
    "nltk.download('stopwords')"
   ]
  },
  {
   "cell_type": "code",
   "execution_count": 10,
   "id": "0f1e7f8b-e094-437d-8478-e4354f321f47",
   "metadata": {},
   "outputs": [],
   "source": [
    "SEED = 2023\n",
    "random.seed(SEED)"
   ]
  },
  {
   "cell_type": "markdown",
   "id": "f2357d05-a601-4f74-a06e-0091441569da",
   "metadata": {},
   "source": [
    "## Load data"
   ]
  },
  {
   "cell_type": "code",
   "execution_count": 11,
   "id": "bb31d494-4731-47d1-a3d0-fca214df41cb",
   "metadata": {},
   "outputs": [
    {
     "data": {
      "text/plain": [
       "(527, 2)"
      ]
     },
     "metadata": {},
     "output_type": "display_data"
    },
    {
     "data": {
      "text/html": [
       "<div>\n",
       "<style scoped>\n",
       "    .dataframe tbody tr th:only-of-type {\n",
       "        vertical-align: middle;\n",
       "    }\n",
       "\n",
       "    .dataframe tbody tr th {\n",
       "        vertical-align: top;\n",
       "    }\n",
       "\n",
       "    .dataframe thead th {\n",
       "        text-align: right;\n",
       "    }\n",
       "</style>\n",
       "<table border=\"1\" class=\"dataframe\">\n",
       "  <thead>\n",
       "    <tr style=\"text-align: right;\">\n",
       "      <th></th>\n",
       "      <th>title</th>\n",
       "      <th>summary</th>\n",
       "    </tr>\n",
       "  </thead>\n",
       "  <tbody>\n",
       "    <tr>\n",
       "      <th>426</th>\n",
       "      <td>Water industry</td>\n",
       "      <td>The water industry provides drinking water and wastewater services (including sewage treatment) to residential, commercial, and industrial sectors of the economy. Typically public utilities operate water supply networks. The water industry does not include manufacturers and suppliers of bottled water, which is part of the beverage production and belongs to the food sector.\\nThe water industry ...</td>\n",
       "    </tr>\n",
       "    <tr>\n",
       "      <th>465</th>\n",
       "      <td>Professional services</td>\n",
       "      <td>Professional services are occupations in the service sector requiring special training in liberal arts and pure sciences education or professional development education. Some professional services, such as architects, accountants, engineers, doctors, and lawyers require the practitioner to hold professional degrees or licenses and possess specific skills. Other professional services involve pr...</td>\n",
       "    </tr>\n",
       "  </tbody>\n",
       "</table>\n",
       "</div>"
      ],
      "text/plain": [
       "                     title  \\\n",
       "426         Water industry   \n",
       "465  Professional services   \n",
       "\n",
       "                                                                                                                                                                                                                                                                                                                                                                                                             summary  \n",
       "426  The water industry provides drinking water and wastewater services (including sewage treatment) to residential, commercial, and industrial sectors of the economy. Typically public utilities operate water supply networks. The water industry does not include manufacturers and suppliers of bottled water, which is part of the beverage production and belongs to the food sector.\\nThe water industry ...  \n",
       "465  Professional services are occupations in the service sector requiring special training in liberal arts and pure sciences education or professional development education. Some professional services, such as architects, accountants, engineers, doctors, and lawyers require the practitioner to hold professional degrees or licenses and possess specific skills. Other professional services involve pr...  "
      ]
     },
     "metadata": {},
     "output_type": "display_data"
    }
   ],
   "source": [
    "df = (pd\n",
    "      .read_csv('data/manufacturing_articles.csv')\n",
    "      .loc[:,['title', 'summary']]\n",
    "     )\n",
    "\n",
    "display(df.shape)\n",
    "display(df.sample(2))"
   ]
  },
  {
   "cell_type": "markdown",
   "id": "e151d264-e375-4bee-851c-d3ce2fe6e7a1",
   "metadata": {},
   "source": [
    "## Calculate embeddings"
   ]
  },
  {
   "cell_type": "markdown",
   "id": "59ca349c-53e7-48d5-883f-5119e5e4259a",
   "metadata": {},
   "source": [
    "### Sentence Transformer"
   ]
  },
  {
   "cell_type": "code",
   "execution_count": 39,
   "id": "8232652c-feb3-4691-bc99-24767b764ef1",
   "metadata": {},
   "outputs": [
    {
     "name": "stdout",
     "output_type": "stream",
     "text": [
      "Loaded embeddings from \"data/transformer_embeddings.pickle\".\n",
      "Transformer embeddings shape: (527, 384)\n"
     ]
    }
   ],
   "source": [
    "output_filepath = 'data/transformer_embeddings.pickle'\n",
    "\n",
    "# Load if embeddings already exit.\n",
    "if os.path.exists(output_filepath):\n",
    "    with open(output_filepath, 'rb') as f:\n",
    "        transformer_embeddings = pickle.load(f)\n",
    "        print(f'Loaded embeddings from \"{output_filepath}\".')\n",
    "        \n",
    "# Otherwise:\n",
    "else:\n",
    "    transformer_vectoriser = SentenceTransformer(\"all-MiniLM-L12-v2\")\n",
    "    transformer_vectoriser.max_seq_length = 512\n",
    "\n",
    "    # 1) calculate the endodings\n",
    "    print('Start calculating embeddings...')\n",
    "    transformer_embeddings = transformer_vectoriser.encode(df['summary'].tolist(), show_progress_bar=True)\n",
    "    print(f'Completed! Embeddings shape:{transformer_embeddings.shape}')\n",
    "    \n",
    "    # 2) save them locally\n",
    "    with open(output_filepath, 'wb') as f:\n",
    "        pickle.dump(transformer_embeddings, f)\n",
    "        print(f'Embeddings saved to \"{output_filepath}\".')\n",
    "\n",
    "\n",
    "print(f'Transformer embeddings shape: {transformer_embeddings.shape}')"
   ]
  },
  {
   "cell_type": "markdown",
   "id": "08a01c18-a534-402a-8364-01e0f10a8db2",
   "metadata": {},
   "source": [
    "### TF-IDF"
   ]
  },
  {
   "cell_type": "code",
   "execution_count": 109,
   "id": "c923c995-8e3a-4d8f-b18a-d31b3f2a1a16",
   "metadata": {},
   "outputs": [
    {
     "name": "stdout",
     "output_type": "stream",
     "text": [
      "Embeddings saved to \"data/tfidf_embeddings.pickle\".\n"
     ]
    }
   ],
   "source": [
    "output_filepath = 'data/tfidf_embeddings.pickle'\n",
    "\n",
    "# Load if embeddings already exit.\n",
    "if os.path.exists(output_filepath):\n",
    "    with open(output_filepath, 'rb') as f:\n",
    "        tfidf_embeddings = pickle.load(f)\n",
    "        print(f'Loaded embeddings from \"{output_filepath}\".')\n",
    "        \n",
    "# Otherwise create embeddings\n",
    "else:\n",
    "    stopwords = (nltk\n",
    "             .corpus\n",
    "             .stopwords\n",
    "             .words(fileids=['english',])\n",
    "            )\n",
    "\n",
    "    tfidf_vectorizer = TfidfVectorizer(\n",
    "        input = \"content\", \n",
    "        analyzer = \"word\", \n",
    "        min_df = 2, \n",
    "        max_df = 0.95,\n",
    "        ngram_range = (1,2),\n",
    "        stop_words = stopwords, \n",
    "        sublinear_tf = True,\n",
    "    )\n",
    "    \n",
    "    tfidf_embeddings = tfidf_vectorizer.fit_transform(df['summary'].dropna().tolist())\n",
    "    \n",
    "    with open(output_filepath, 'wb') as f:\n",
    "        pickle.dump(tfidf_embeddings, f)\n",
    "        print(f'Embeddings saved to \"{output_filepath}\".')"
   ]
  },
  {
   "cell_type": "markdown",
   "id": "e9f8fb00-2e60-4df8-9194-705dd97adc13",
   "metadata": {
    "tags": []
   },
   "source": [
    "## Semantic seach"
   ]
  },
  {
   "cell_type": "markdown",
   "id": "7addcbf3-ae0a-402a-a3f9-3f701b1e43d8",
   "metadata": {},
   "source": [
    "### Search functions"
   ]
  },
  {
   "cell_type": "code",
   "execution_count": 110,
   "id": "3e162e0b-fd2b-40db-bd48-0075fb5e82ec",
   "metadata": {},
   "outputs": [],
   "source": [
    "def transformer_semantic_search(\n",
    "    query: str,\n",
    "    top_n: int,\n",
    "    df_data: pd.DataFrame,\n",
    "    embeddings: np.array,\n",
    "    vectoriser,\n",
    ") -> None:\n",
    "    \"\"\"\n",
    "    Perform semantic search to find the most similar articles to a search query.\n",
    "\n",
    "    Args:\n",
    "        query (str): The description of the unseen process.\n",
    "        n_results (int): The number of most similar processes to retrieve.\n",
    "        article_df (pd.DataFrame): The DataFrame containing the process articles.\n",
    "        article_embeddings (np.array): The array of embeddings for the process articles.\n",
    "    \"\"\"\n",
    "    query_embedding = vectoriser.encode(query)\n",
    "    cosine_similarities = util.cos_sim(embeddings, query_embedding[np.newaxis,:])\n",
    "    top_n_indexes = np.argsort(cosine_similarities.flatten())[-top_n:]\n",
    "\n",
    "    print(f'Top {top_n} most similar articles using Sentence Transformer encodings: \\n', '-'*40)\n",
    "    \n",
    "    return (df_data\n",
    "             .iloc[top_n_indexes]\n",
    "             .assign(similarity = cosine_similarities[top_n_indexes])\n",
    "             .loc[:, ['title', 'similarity']]\n",
    "             .sort_values('similarity', ascending = False)\n",
    "             .reset_index(drop=True)\n",
    "             )"
   ]
  },
  {
   "cell_type": "code",
   "execution_count": 111,
   "id": "2bd0ea59-320a-4a77-8538-233efe134c43",
   "metadata": {},
   "outputs": [],
   "source": [
    "def tfidf_semantic_search(\n",
    "    query: str,\n",
    "    top_n: int,\n",
    "    df_data: pd.DataFrame,\n",
    "    embeddings: np.array,\n",
    "    vectoriser,\n",
    ") -> None:\n",
    "    \"\"\"\n",
    "    Perform semantic search to find the most similar articles to a search query.\n",
    "\n",
    "    Args:\n",
    "        query (str): The description of the unseen process.\n",
    "        n_results (int): The number of most similar processes to retrieve.\n",
    "        article_df (pd.DataFrame): The DataFrame containing the process articles.\n",
    "        article_embeddings (np.array): The array of embeddings for the process articles.\n",
    "    \"\"\"\n",
    "    query_embedding = vectoriser.transform([query,])\n",
    "    cosine_similarities = cosine_similarity(embeddings, query_embedding)\n",
    "    top_n_indexes = np.argsort(cosine_similarities.flatten())[-top_n:]\n",
    "\n",
    "    print(f'Top {top_n} most similar articles using TFIDF encodings: \\n', '-'*40)\n",
    "    \n",
    "    return (df_data\n",
    "             .iloc[top_n_indexes]\n",
    "             .assign(similarity = cosine_similarities[top_n_indexes])\n",
    "             .loc[:, ['title', 'similarity']]\n",
    "             .sort_values('similarity', ascending = False)\n",
    "             .reset_index(drop=True)\n",
    "             )"
   ]
  },
  {
   "cell_type": "markdown",
   "id": "b83a84f2-20ca-41c4-96c9-34589dbb7091",
   "metadata": {},
   "source": [
    "### Expected result - hydroforming"
   ]
  },
  {
   "cell_type": "code",
   "execution_count": 112,
   "id": "f67bc948-4bfb-477f-8e1f-092d32c1ae5c",
   "metadata": {},
   "outputs": [
    {
     "name": "stdout",
     "output_type": "stream",
     "text": [
      "Top 3 most similar articles using Sentence Transformer encodings: \n",
      " ----------------------------------------\n"
     ]
    },
    {
     "data": {
      "text/html": [
       "<div>\n",
       "<style scoped>\n",
       "    .dataframe tbody tr th:only-of-type {\n",
       "        vertical-align: middle;\n",
       "    }\n",
       "\n",
       "    .dataframe tbody tr th {\n",
       "        vertical-align: top;\n",
       "    }\n",
       "\n",
       "    .dataframe thead th {\n",
       "        text-align: right;\n",
       "    }\n",
       "</style>\n",
       "<table border=\"1\" class=\"dataframe\">\n",
       "  <thead>\n",
       "    <tr style=\"text-align: right;\">\n",
       "      <th></th>\n",
       "      <th>title</th>\n",
       "      <th>similarity</th>\n",
       "    </tr>\n",
       "  </thead>\n",
       "  <tbody>\n",
       "    <tr>\n",
       "      <th>0</th>\n",
       "      <td>Hydroforming</td>\n",
       "      <td>0.605506</td>\n",
       "    </tr>\n",
       "    <tr>\n",
       "      <th>1</th>\n",
       "      <td>Metal fabrication</td>\n",
       "      <td>0.596422</td>\n",
       "    </tr>\n",
       "    <tr>\n",
       "      <th>2</th>\n",
       "      <td>Explosive forming</td>\n",
       "      <td>0.592556</td>\n",
       "    </tr>\n",
       "  </tbody>\n",
       "</table>\n",
       "</div>"
      ],
      "text/plain": [
       "               title  similarity\n",
       "0       Hydroforming    0.605506\n",
       "1  Metal fabrication    0.596422\n",
       "2  Explosive forming    0.592556"
      ]
     },
     "metadata": {},
     "output_type": "display_data"
    },
    {
     "name": "stdout",
     "output_type": "stream",
     "text": [
      "Top 3 most similar articles using TFIDF encodings: \n",
      " ----------------------------------------\n"
     ]
    },
    {
     "data": {
      "text/html": [
       "<div>\n",
       "<style scoped>\n",
       "    .dataframe tbody tr th:only-of-type {\n",
       "        vertical-align: middle;\n",
       "    }\n",
       "\n",
       "    .dataframe tbody tr th {\n",
       "        vertical-align: top;\n",
       "    }\n",
       "\n",
       "    .dataframe thead th {\n",
       "        text-align: right;\n",
       "    }\n",
       "</style>\n",
       "<table border=\"1\" class=\"dataframe\">\n",
       "  <thead>\n",
       "    <tr style=\"text-align: right;\">\n",
       "      <th></th>\n",
       "      <th>title</th>\n",
       "      <th>similarity</th>\n",
       "    </tr>\n",
       "  </thead>\n",
       "  <tbody>\n",
       "    <tr>\n",
       "      <th>0</th>\n",
       "      <td>Hot metal gas forming</td>\n",
       "      <td>0.124376</td>\n",
       "    </tr>\n",
       "    <tr>\n",
       "      <th>1</th>\n",
       "      <td>Screw thread</td>\n",
       "      <td>0.084560</td>\n",
       "    </tr>\n",
       "    <tr>\n",
       "      <th>2</th>\n",
       "      <td>Cold sizing</td>\n",
       "      <td>0.078514</td>\n",
       "    </tr>\n",
       "  </tbody>\n",
       "</table>\n",
       "</div>"
      ],
      "text/plain": [
       "                   title  similarity\n",
       "0  Hot metal gas forming    0.124376\n",
       "1           Screw thread    0.084560\n",
       "2            Cold sizing    0.078514"
      ]
     },
     "metadata": {},
     "output_type": "display_data"
    }
   ],
   "source": [
    "def search_for(query):\n",
    "    display(transformer_semantic_search(\n",
    "                query, \n",
    "                3, \n",
    "                df[['title']], \n",
    "                transformer_embeddings,\n",
    "                transformer_vectoriser))\n",
    "\n",
    "    display(tfidf_semantic_search(\n",
    "                query, \n",
    "                3, \n",
    "                df[['title']], \n",
    "                tfidf_embeddings, \n",
    "                tfidf_vectorizer))\n",
    "    \n",
    "query = textwrap.dedent(\"\"\"\n",
    "    Manufacturing process used to shape metal components using high-pressure fluid. \n",
    "    It involves placing a metal sheet or tube over a die and sealing it with a fluid-pressurized bladder. \n",
    "    As the fluid pressure increases, the metal deforms to take the shape of the die, \n",
    "    resulting in complex and seamless structures with enhanced strength and structural integrity.\n",
    "\"\"\")\n",
    "\n",
    "search_for(query)"
   ]
  },
  {
   "cell_type": "markdown",
   "id": "381f11e5-0876-4b11-b163-68a888d38dd8",
   "metadata": {},
   "source": [
    "### Expected result - sheet metal blank"
   ]
  },
  {
   "cell_type": "code",
   "execution_count": 113,
   "id": "087719c3-3048-48dd-a903-23af6422aa29",
   "metadata": {},
   "outputs": [
    {
     "name": "stdout",
     "output_type": "stream",
     "text": [
      "Top 3 most similar articles using Sentence Transformer encodings: \n",
      " ----------------------------------------\n"
     ]
    },
    {
     "data": {
      "text/html": [
       "<div>\n",
       "<style scoped>\n",
       "    .dataframe tbody tr th:only-of-type {\n",
       "        vertical-align: middle;\n",
       "    }\n",
       "\n",
       "    .dataframe tbody tr th {\n",
       "        vertical-align: top;\n",
       "    }\n",
       "\n",
       "    .dataframe thead th {\n",
       "        text-align: right;\n",
       "    }\n",
       "</style>\n",
       "<table border=\"1\" class=\"dataframe\">\n",
       "  <thead>\n",
       "    <tr style=\"text-align: right;\">\n",
       "      <th></th>\n",
       "      <th>title</th>\n",
       "      <th>similarity</th>\n",
       "    </tr>\n",
       "  </thead>\n",
       "  <tbody>\n",
       "    <tr>\n",
       "      <th>0</th>\n",
       "      <td>Metal fabrication</td>\n",
       "      <td>0.597248</td>\n",
       "    </tr>\n",
       "    <tr>\n",
       "      <th>1</th>\n",
       "      <td>Cutting</td>\n",
       "      <td>0.532732</td>\n",
       "    </tr>\n",
       "    <tr>\n",
       "      <th>2</th>\n",
       "      <td>Blanking and piercing</td>\n",
       "      <td>0.520070</td>\n",
       "    </tr>\n",
       "  </tbody>\n",
       "</table>\n",
       "</div>"
      ],
      "text/plain": [
       "                   title  similarity\n",
       "0      Metal fabrication    0.597248\n",
       "1                Cutting    0.532732\n",
       "2  Blanking and piercing    0.520070"
      ]
     },
     "metadata": {},
     "output_type": "display_data"
    },
    {
     "name": "stdout",
     "output_type": "stream",
     "text": [
      "Top 3 most similar articles using TFIDF encodings: \n",
      " ----------------------------------------\n"
     ]
    },
    {
     "data": {
      "text/html": [
       "<div>\n",
       "<style scoped>\n",
       "    .dataframe tbody tr th:only-of-type {\n",
       "        vertical-align: middle;\n",
       "    }\n",
       "\n",
       "    .dataframe tbody tr th {\n",
       "        vertical-align: top;\n",
       "    }\n",
       "\n",
       "    .dataframe thead th {\n",
       "        text-align: right;\n",
       "    }\n",
       "</style>\n",
       "<table border=\"1\" class=\"dataframe\">\n",
       "  <thead>\n",
       "    <tr style=\"text-align: right;\">\n",
       "      <th></th>\n",
       "      <th>title</th>\n",
       "      <th>similarity</th>\n",
       "    </tr>\n",
       "  </thead>\n",
       "  <tbody>\n",
       "    <tr>\n",
       "      <th>0</th>\n",
       "      <td>Impact extrusion</td>\n",
       "      <td>0.107972</td>\n",
       "    </tr>\n",
       "    <tr>\n",
       "      <th>1</th>\n",
       "      <td>Drawing (manufacturing)</td>\n",
       "      <td>0.083101</td>\n",
       "    </tr>\n",
       "    <tr>\n",
       "      <th>2</th>\n",
       "      <td>Cutting</td>\n",
       "      <td>0.076372</td>\n",
       "    </tr>\n",
       "  </tbody>\n",
       "</table>\n",
       "</div>"
      ],
      "text/plain": [
       "                     title  similarity\n",
       "0         Impact extrusion    0.107972\n",
       "1  Drawing (manufacturing)    0.083101\n",
       "2                  Cutting    0.076372"
      ]
     },
     "metadata": {},
     "output_type": "display_data"
    }
   ],
   "source": [
    "query = textwrap.dedent(\"\"\"\n",
    "    manufacturing operation that involves cutting out flat shapes from a sheet of metal material.\n",
    "    It is typically achieved by using a specialized tool and die set. \n",
    "    The process helps create precise and identical parts, and the cut-out pieces, known as blanks, \n",
    "    can be further processed or used as-is for various applications\n",
    "\"\"\")\n",
    "\n",
    "search_for(query)"
   ]
  },
  {
   "cell_type": "markdown",
   "id": "3a9949d6-b0f7-41d5-ac4b-8f2709d91423",
   "metadata": {},
   "source": [
    "### Expected result - metal spinning"
   ]
  },
  {
   "cell_type": "code",
   "execution_count": 114,
   "id": "5813ef43-f8b9-47e9-8dd0-6f271dd0f058",
   "metadata": {},
   "outputs": [
    {
     "name": "stdout",
     "output_type": "stream",
     "text": [
      "Top 3 most similar articles using Sentence Transformer encodings: \n",
      " ----------------------------------------\n"
     ]
    },
    {
     "data": {
      "text/html": [
       "<div>\n",
       "<style scoped>\n",
       "    .dataframe tbody tr th:only-of-type {\n",
       "        vertical-align: middle;\n",
       "    }\n",
       "\n",
       "    .dataframe tbody tr th {\n",
       "        vertical-align: top;\n",
       "    }\n",
       "\n",
       "    .dataframe thead th {\n",
       "        text-align: right;\n",
       "    }\n",
       "</style>\n",
       "<table border=\"1\" class=\"dataframe\">\n",
       "  <thead>\n",
       "    <tr style=\"text-align: right;\">\n",
       "      <th></th>\n",
       "      <th>title</th>\n",
       "      <th>similarity</th>\n",
       "    </tr>\n",
       "  </thead>\n",
       "  <tbody>\n",
       "    <tr>\n",
       "      <th>0</th>\n",
       "      <td>Laminated object manufacturing</td>\n",
       "      <td>0.513743</td>\n",
       "    </tr>\n",
       "    <tr>\n",
       "      <th>1</th>\n",
       "      <td>Metal fabrication</td>\n",
       "      <td>0.508376</td>\n",
       "    </tr>\n",
       "    <tr>\n",
       "      <th>2</th>\n",
       "      <td>Metal spinning</td>\n",
       "      <td>0.502959</td>\n",
       "    </tr>\n",
       "  </tbody>\n",
       "</table>\n",
       "</div>"
      ],
      "text/plain": [
       "                            title  similarity\n",
       "0  Laminated object manufacturing    0.513743\n",
       "1               Metal fabrication    0.508376\n",
       "2                  Metal spinning    0.502959"
      ]
     },
     "metadata": {},
     "output_type": "display_data"
    },
    {
     "name": "stdout",
     "output_type": "stream",
     "text": [
      "Top 3 most similar articles using TFIDF encodings: \n",
      " ----------------------------------------\n"
     ]
    },
    {
     "data": {
      "text/html": [
       "<div>\n",
       "<style scoped>\n",
       "    .dataframe tbody tr th:only-of-type {\n",
       "        vertical-align: middle;\n",
       "    }\n",
       "\n",
       "    .dataframe tbody tr th {\n",
       "        vertical-align: top;\n",
       "    }\n",
       "\n",
       "    .dataframe thead th {\n",
       "        text-align: right;\n",
       "    }\n",
       "</style>\n",
       "<table border=\"1\" class=\"dataframe\">\n",
       "  <thead>\n",
       "    <tr style=\"text-align: right;\">\n",
       "      <th></th>\n",
       "      <th>title</th>\n",
       "      <th>similarity</th>\n",
       "    </tr>\n",
       "  </thead>\n",
       "  <tbody>\n",
       "    <tr>\n",
       "      <th>0</th>\n",
       "      <td>Flattening</td>\n",
       "      <td>0.109792</td>\n",
       "    </tr>\n",
       "    <tr>\n",
       "      <th>1</th>\n",
       "      <td>Abrasive jet machining</td>\n",
       "      <td>0.099775</td>\n",
       "    </tr>\n",
       "    <tr>\n",
       "      <th>2</th>\n",
       "      <td>Refining</td>\n",
       "      <td>0.092425</td>\n",
       "    </tr>\n",
       "  </tbody>\n",
       "</table>\n",
       "</div>"
      ],
      "text/plain": [
       "                    title  similarity\n",
       "0              Flattening    0.109792\n",
       "1  Abrasive jet machining    0.099775\n",
       "2                Refining    0.092425"
      ]
     },
     "metadata": {},
     "output_type": "display_data"
    }
   ],
   "source": [
    "query = textwrap.dedent(\"\"\"\n",
    "    fabrication technique that utilizes rotational forces to shape a workpiece into a desired form. \n",
    "    It involves the use of a lathe-like machine where a malleable material is rotated at high speed while gradually\n",
    "    formed into a three-dimensional shape. \n",
    "    This process enables the production of curved and symmetrical objects with excellent precision and surface finish.\n",
    "\"\"\")\n",
    "\n",
    "search_for(query)"
   ]
  },
  {
   "cell_type": "code",
   "execution_count": null,
   "id": "5f3cc2b4-b99a-45ca-8762-34436153acf2",
   "metadata": {},
   "outputs": [
    {
     "name": "stdout",
     "output_type": "stream",
     "text": [
      "Top 3 most similar articles using Sentence Transformer encodings: \n",
      " ----------------------------------------\n"
     ]
    },
    {
     "data": {
      "text/html": [
       "<div>\n",
       "<style scoped>\n",
       "    .dataframe tbody tr th:only-of-type {\n",
       "        vertical-align: middle;\n",
       "    }\n",
       "\n",
       "    .dataframe tbody tr th {\n",
       "        vertical-align: top;\n",
       "    }\n",
       "\n",
       "    .dataframe thead th {\n",
       "        text-align: right;\n",
       "    }\n",
       "</style>\n",
       "<table border=\"1\" class=\"dataframe\">\n",
       "  <thead>\n",
       "    <tr style=\"text-align: right;\">\n",
       "      <th></th>\n",
       "      <th>title</th>\n",
       "      <th>similarity</th>\n",
       "    </tr>\n",
       "  </thead>\n",
       "  <tbody>\n",
       "    <tr>\n",
       "      <th>0</th>\n",
       "      <td>Hydroforming</td>\n",
       "      <td>0.334074</td>\n",
       "    </tr>\n",
       "    <tr>\n",
       "      <th>1</th>\n",
       "      <td>Metallizing</td>\n",
       "      <td>0.329335</td>\n",
       "    </tr>\n",
       "    <tr>\n",
       "      <th>2</th>\n",
       "      <td>Coating</td>\n",
       "      <td>0.314700</td>\n",
       "    </tr>\n",
       "  </tbody>\n",
       "</table>\n",
       "</div>"
      ],
      "text/plain": [
       "          title  similarity\n",
       "0  Hydroforming    0.334074\n",
       "1   Metallizing    0.329335\n",
       "2       Coating    0.314700"
      ]
     },
     "metadata": {},
     "output_type": "display_data"
    },
    {
     "name": "stdout",
     "output_type": "stream",
     "text": [
      "Top 3 most similar articles using TFIDF encodings: \n",
      " ----------------------------------------\n"
     ]
    },
    {
     "data": {
      "text/html": [
       "<div>\n",
       "<style scoped>\n",
       "    .dataframe tbody tr th:only-of-type {\n",
       "        vertical-align: middle;\n",
       "    }\n",
       "\n",
       "    .dataframe tbody tr th {\n",
       "        vertical-align: top;\n",
       "    }\n",
       "\n",
       "    .dataframe thead th {\n",
       "        text-align: right;\n",
       "    }\n",
       "</style>\n",
       "<table border=\"1\" class=\"dataframe\">\n",
       "  <thead>\n",
       "    <tr style=\"text-align: right;\">\n",
       "      <th></th>\n",
       "      <th>title</th>\n",
       "      <th>similarity</th>\n",
       "    </tr>\n",
       "  </thead>\n",
       "  <tbody>\n",
       "    <tr>\n",
       "      <th>0</th>\n",
       "      <td>Ultrasonic welding</td>\n",
       "      <td>0.031740</td>\n",
       "    </tr>\n",
       "    <tr>\n",
       "      <th>1</th>\n",
       "      <td>Etching</td>\n",
       "      <td>0.026784</td>\n",
       "    </tr>\n",
       "    <tr>\n",
       "      <th>2</th>\n",
       "      <td>Permanent mold casting</td>\n",
       "      <td>0.025766</td>\n",
       "    </tr>\n",
       "  </tbody>\n",
       "</table>\n",
       "</div>"
      ],
      "text/plain": [
       "                    title  similarity\n",
       "0      Ultrasonic welding    0.031740\n",
       "1                 Etching    0.026784\n",
       "2  Permanent mold casting    0.025766"
      ]
     },
     "metadata": {},
     "output_type": "display_data"
    }
   ],
   "source": [
    "query = textwrap.dedent(\"\"\"\n",
    "    I want to seal two metal surfaces - casted aluminum box and an aluminum cover.\n",
    "    I want tight water-proof seal, no need to seal pressure. However, it needs to be robust,\n",
    "    last long (e.g. 10 years), and be relatively cheap and fast to assemble.\n",
    "\"\"\")\n",
    "search_for(query)"
   ]
  }
 ],
 "metadata": {
  "kernelspec": {
   "display_name": "Python 3 (ipykernel)",
   "language": "python",
   "name": "python3"
  },
  "language_info": {
   "codemirror_mode": {
    "name": "ipython",
    "version": 3
   },
   "file_extension": ".py",
   "mimetype": "text/x-python",
   "name": "python",
   "nbconvert_exporter": "python",
   "pygments_lexer": "ipython3",
   "version": "3.9.0"
  }
 },
 "nbformat": 4,
 "nbformat_minor": 5
}
